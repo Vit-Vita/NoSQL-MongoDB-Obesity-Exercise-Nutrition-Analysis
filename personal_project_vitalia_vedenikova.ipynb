{
 "cells": [
  {
   "cell_type": "markdown",
   "id": "54c59459-0711-41bd-aeb5-69ee0175748c",
   "metadata": {},
   "source": [
    "# Obesity, Exercise and Nutrition in the USA"
   ]
  },
  {
   "cell_type": "markdown",
   "id": "2b865b26",
   "metadata": {},
   "source": [
    "## Table of Contents\n",
    "1. [Summary](##summary)\n",
    "2. [Requirements and Configuration](##requirements-and-configuration)\n",
    "3. [ELT Process](##elt-process)\n",
    "   - 3.1. [Connect to the DB and check it](###connect-to-the-db-and-check-it)\n",
    "   - 3.2. [Extract](###extract)\n",
    "   - 3.3  [Load](###load)\n",
    "4. [Transform](##transform)\n",
    "   - 4.1. [Missing Values](###missing-values)\n",
    "   - 4.2. [Removing Unnecessary or Duplicate Fields](####removing-unnecessary-or-duplicate-fields)\n",
    "       - 4.2.1.  [\"year_start\" and \"year_end\"](####\"year_start\"-and-\"year_end\")\n",
    "       - 4.2.2 [\"percent\" and \"percent_alt\"](####\"percent\"-and-\"percent_alt\")\n",
    "       - 4.2.3. [\"class_data_1\" and \"class_data_2\"](####\"class_data_1\"-and-\"class_data_2\")\n",
    "       - 4.2.4. [Remove Fields which are Always Empty or Never Change\"](####remove-fields-which-are-always-empty-or-never-change)\n",
    "   - 4.3. [Embed the Data Related to the Population](###embed-the-data-related-to-the-population)\n",
    "   - 4.4. [Check for Duplicate Entries](###check-for-duplicate-entries)\n",
    "   \n",
    "5. [Data Structure](##data-structure)\n",
    "6. [Dataflow](##dataflow)\n",
    "7. [Data Analysis](##data-analysis)\n",
    "    - 7.1. [Which State Has the Highest Percentage of Adults who are either Obese or Overweight?](###which-state-has-the-highest-percentage-of-adults-who-are-either-obese-or-overweight?)\n",
    "    - 7.2. [Are Certain Ethnicites More Likely to be Obese or Overweight?](####are-certain-ethnicities-more-likely-to-be-obese-or-overweight?)\n",
    "    - 7.3. [Is a Lower Income Associated with Higher Rates of Adults being Overweight or Obese?](####is-a-lower-income-associated-with-higher-rates-of-adults-beaing-overweight-or-obese?)\n",
    "    - 7.4. [Has There Been a Decline or Increase in Obesity from 2011 to 2023?](####has-there-been-a-decline-or-increase-in-obesity-from-2011-to-2023?)\n",
    "    - 7.5. [Which State Has the Lowest Percentage of Adults Consuming Vegetables or Fruits at Least Once per Day?](####which-state-has-the-lowest-percentage-of-adults-consuming-vegetables-or-fruits-at-least-once-per-day?)\n",
    "    - 7.6. [What Percentage of Americans Regularily Exercise?](####what-percentage-of-americans-regularily-exercise?)\n",
    "8. [Conclusions](##conclusions)\n",
    "9. [Learnings](##learnings)\n",
    "10. [Disclaimer](##disclaimer)"
   ]
  },
  {
   "cell_type": "code",
   "execution_count": null,
   "id": "e47b2281",
   "metadata": {},
   "outputs": [],
   "source": [
    "\n",
    "\n",
    "\n",
    "\n"
   ]
  },
  {
   "cell_type": "markdown",
   "id": "55f159c4-95f4-4138-8c35-ab4ca4788f76",
   "metadata": {},
   "source": [
    "## 1. Summary\n",
    "\n",
    "Obesity is often referred to as a global epidemic whose prevalence grows in develped and developing countries alike. One of the countries where it is most prevalent is undoubtedly the United States of America. Since 1984, The Behavioral Risk Factor Surveillance System (BRFSS) has conducted health-related telephone surveys on behalf the Center of Disease Control and Prevention to collect state data about U.S. residents regarding their health-related risk behaviors, chronic health conditions, and use of preventive services. Every year, it conducts suverys with over 400'000 adults across the US. \n",
    "\n",
    "On the basis of their surveys, they have published a dataset found in the \"Data Catalog\" of Data.gov which includes data on adults' diet, physical activity, and weight status which spans from 2011 to 2023 and make be found at the following link: https://catalog.data.gov/dataset/nutrition-physical-activity-and-obesity-behavioral-risk-factor-surveillance-system. \n",
    "\n",
    "Using this data, we will closely examine the percentage of individuals qualified as obese or overweight in each US State, examine how these percentages changed over time and also possible correlated factors, such as income, ethnicity, nutrition and exercise. \n",
    "\n",
    "To do so, we will first extract the data, load it into MongoDB then transform it. The transformation phase includes some quality checks such as identifying missing values, duplicates between fields and duplicates within the data and also identifying perpetually empty or unchanging fields which bring nothing to the analysis. \n",
    "\n",
    "We will then move on to the analysis, by examining the following main questions which will be broken down into smaller sub-questions:\n",
    "- Which State has the highest percentage of adults who are either obese or overweight?\n",
    "- Are certain ethnicites more likely to be obese or overweight?\n",
    "- Is a lower income associated with higher rates of adults being overweight or obese?\n",
    "- Has there been a decline or increase in obesity from 2011 to 2023?\n",
    "- Which State has the lowest percentage of adults consuming vegetables or fruits at least once per day?\n",
    "- What percentage of Americans regularily exercise?\n",
    "\n"
   ]
  },
  {
   "cell_type": "markdown",
   "id": "89d33fbf-016a-4250-b840-11194d358687",
   "metadata": {},
   "source": [
    "## 2. Requirements and Configuration"
   ]
  },
  {
   "cell_type": "code",
   "execution_count": 27,
   "id": "57084fe2-8ce8-4600-a446-746c18d57ef8",
   "metadata": {},
   "outputs": [],
   "source": [
    "#import required packages\n",
    "import requests\n",
    "import pymongo\n",
    "from pprint import pprint\n",
    "import pandas as pd\n",
    "import json\n",
    "import datetime\n",
    "import copy\n",
    "import numpy as np \n",
    "import matplotlib.pyplot as plt \n",
    "import geopandas as gpd \n",
    "import os \n",
    "from mpl_toolkits.axes_grid1 import make_axes_locatable"
   ]
  },
  {
   "cell_type": "code",
   "execution_count": 28,
   "id": "e77df551-8c52-4aa8-8cf8-c060ac921faa",
   "metadata": {},
   "outputs": [],
   "source": [
    "#Set options for pandas dataframes\n",
    "pd.set_option('max_colwidth', 400)"
   ]
  },
  {
   "cell_type": "markdown",
   "id": "4938d0c0-f538-4ddc-b073-901083e1ce52",
   "metadata": {},
   "source": [
    "## 3. ELT Process"
   ]
  },
  {
   "cell_type": "markdown",
   "id": "28df86b4-fa42-4df1-9f80-d95f391a2e5f",
   "metadata": {},
   "source": [
    "### 3.1. Connect to the DB and check it"
   ]
  },
  {
   "cell_type": "code",
   "execution_count": null,
   "id": "f28a4628-54ef-4dd8-a533-a77e5a4acebf",
   "metadata": {},
   "outputs": [],
   "source": [
    "CNX_STR = \"mongodb+srv://...\"\n",
    "client = pymongo.MongoClient(CNX_STR)"
   ]
  },
  {
   "cell_type": "code",
   "execution_count": 39,
   "id": "7c6b2920-28b6-41a0-afb1-436307dacfbb",
   "metadata": {},
   "outputs": [],
   "source": [
    "db = client['db_obesity_usa']"
   ]
  },
  {
   "cell_type": "code",
   "execution_count": 40,
   "id": "ee68bb03-fc25-49ea-89c8-af2ce0f49634",
   "metadata": {},
   "outputs": [
    {
     "data": {
      "text/plain": [
       "['USA']"
      ]
     },
     "execution_count": 40,
     "metadata": {},
     "output_type": "execute_result"
    }
   ],
   "source": [
    "db.list_collection_names()"
   ]
  },
  {
   "cell_type": "code",
   "execution_count": 41,
   "id": "0706bbff-bd58-4f38-a19a-2e036884b94d",
   "metadata": {},
   "outputs": [],
   "source": [
    "col = db.USA"
   ]
  },
  {
   "cell_type": "code",
   "execution_count": 42,
   "id": "86ee07fc-14ec-479a-b8bb-7d9931e78705",
   "metadata": {},
   "outputs": [
    {
     "data": {
      "text/plain": [
       "0"
      ]
     },
     "execution_count": 42,
     "metadata": {},
     "output_type": "execute_result"
    }
   ],
   "source": [
    "col.count_documents({})"
   ]
  },
  {
   "cell_type": "markdown",
   "id": "bc9373f6-ec2b-4291-8aad-6d3588480593",
   "metadata": {},
   "source": [
    "### 3.2. Extract"
   ]
  },
  {
   "cell_type": "code",
   "execution_count": 43,
   "id": "8ff36f6f-041e-4ff6-840d-d6ec860fd3ce",
   "metadata": {},
   "outputs": [],
   "source": [
    "url = 'https://data.cdc.gov/api/views/hn4x-zwk7/rows.json?accessType=DOWNLOAD'\n",
    "r = requests.get(url)\n",
    "data = r.json()"
   ]
  },
  {
   "cell_type": "markdown",
   "id": "ef48dd7c-2c39-4e0a-b100-505ac1153e70",
   "metadata": {},
   "source": [
    "The extract returned metadata as well as operative data, but we are interested in the operative data only such as in the below example:"
   ]
  },
  {
   "cell_type": "code",
   "execution_count": 51,
   "id": "d3fbdceb-1574-4dec-bce5-d83857245f9a",
   "metadata": {
    "hidden": true,
    "scrolled": true
   },
   "outputs": [
    {
     "name": "stdout",
     "output_type": "stream",
     "text": [
      "['row-yqys~w27i.drzu', '00000000-0000-0000-2A49-2BDB84F72308', 0, 1728324395, None, 1728324395, None, '{ }', '2011', '2011', 'AK', 'Alaska', 'BRFSS', 'Obesity / Weight Status', 'Obesity / Weight Status', 'Percent of adults aged 18 years and older who have obesity', '2011', 'Value', '23.3', '23.3', None, None, '16.1', '32.4', '128', None, None, None, None, None, '2 or more races', ['{\"address\": \"\", \"city\": \"\", \"state\": \"\", \"zip\": \"\"}', '64.845079957001', '-147.722059036', None, False], 'OWS', 'OWS1', 'Q036', 'VALUE', '02', 'Race/Ethnicity', '2 or more races', 'RACE', 'RACE2PLUS']\n"
     ]
    }
   ],
   "source": [
    "#example of data we want to extract\n",
    "print(data['data'][0][:500]) "
   ]
  },
  {
   "cell_type": "code",
   "execution_count": 52,
   "id": "45a7dbd8-8a22-4c5f-bfc0-fb6c8b014e21",
   "metadata": {},
   "outputs": [
    {
     "data": {
      "text/plain": [
       "104272"
      ]
     },
     "execution_count": 52,
     "metadata": {},
     "output_type": "execute_result"
    }
   ],
   "source": [
    "#We have over 100'000 questions in our data\n",
    "len(data['data'])"
   ]
  },
  {
   "cell_type": "markdown",
   "id": "b11495cb-0496-4c73-a919-ec0594086b25",
   "metadata": {},
   "source": [
    "### 3.3. Load"
   ]
  },
  {
   "cell_type": "markdown",
   "id": "dbd76d0c-5552-428d-b88f-41787bbc0a59",
   "metadata": {},
   "source": [
    "Since the data is composed of arrays instead of dictionaries with key-value pairs, loading it as is into the database returns an error. We must first make sure that it is in the proper format by defining keys to the values we extracted."
   ]
  },
  {
   "cell_type": "code",
   "execution_count": 53,
   "id": "762436bf-5c05-485a-902a-c6c17d1b9a18",
   "metadata": {},
   "outputs": [],
   "source": [
    "key_names = ['row_name', 'row_code', 'row_number', 'timestamp_1', 'null_field1',\n",
    "             'timestamp_2','null_field2', 'json_field', 'year_start',\n",
    "             'year_end','state_abbr', 'state',\n",
    "             'data_Source', 'class_data_1', 'class_data_2', \n",
    "             'question', 'year', 'type', 'percent', \n",
    "             'percent_alt','data_value_footnote_symbol',\n",
    "             'footnote', 'low_confidence_limit', 'high_confidence_limit', 'sample_size', \n",
    "             'total', 'age', 'education','gender', 'income', 'ethnicity',\n",
    "             'geo_location', 'class_ID', 'topic_ID', 'question_ID', 'data_value_type', \n",
    "             'location_ID','stratification_category',\n",
    "             'stratification','stratification_category_ID_1', \n",
    "             'stratification_category_ID_2']"
   ]
  },
  {
   "cell_type": "code",
   "execution_count": 54,
   "id": "1bf9d744-18ff-4326-afc2-a2c8b49ec95d",
   "metadata": {},
   "outputs": [],
   "source": [
    "documents = [dict(zip(key_names, item)) for item in data['data']]"
   ]
  },
  {
   "cell_type": "code",
   "execution_count": 55,
   "id": "0de58ad7-4e38-45ca-9905-39e1af1224e7",
   "metadata": {},
   "outputs": [
    {
     "data": {
      "text/plain": [
       "{'row_name': 'row-yqys~w27i.drzu',\n",
       " 'row_code': '00000000-0000-0000-2A49-2BDB84F72308',\n",
       " 'row_number': 0,\n",
       " 'timestamp_1': 1728324395,\n",
       " 'null_field1': None,\n",
       " 'timestamp_2': 1728324395,\n",
       " 'null_field2': None,\n",
       " 'json_field': '{ }',\n",
       " 'year_start': '2011',\n",
       " 'year_end': '2011',\n",
       " 'state_abbr': 'AK',\n",
       " 'state': 'Alaska',\n",
       " 'data_Source': 'BRFSS',\n",
       " 'class_data_1': 'Obesity / Weight Status',\n",
       " 'class_data_2': 'Obesity / Weight Status',\n",
       " 'question': 'Percent of adults aged 18 years and older who have obesity',\n",
       " 'year': '2011',\n",
       " 'type': 'Value',\n",
       " 'percent': '23.3',\n",
       " 'percent_alt': '23.3',\n",
       " 'data_value_footnote_symbol': None,\n",
       " 'footnote': None,\n",
       " 'low_confidence_limit': '16.1',\n",
       " 'high_confidence_limit': '32.4',\n",
       " 'sample_size': '128',\n",
       " 'total': None,\n",
       " 'age': None,\n",
       " 'education': None,\n",
       " 'gender': None,\n",
       " 'income': None,\n",
       " 'ethnicity': '2 or more races',\n",
       " 'geo_location': ['{\"address\": \"\", \"city\": \"\", \"state\": \"\", \"zip\": \"\"}',\n",
       "  '64.845079957001',\n",
       "  '-147.722059036',\n",
       "  None,\n",
       "  False],\n",
       " 'class_ID': 'OWS',\n",
       " 'topic_ID': 'OWS1',\n",
       " 'question_ID': 'Q036',\n",
       " 'data_value_type': 'VALUE',\n",
       " 'location_ID': '02',\n",
       " 'stratification_category': 'Race/Ethnicity',\n",
       " 'stratification': '2 or more races',\n",
       " 'stratification_category_ID_1': 'RACE',\n",
       " 'stratification_category_ID_2': 'RACE2PLUS'}"
      ]
     },
     "execution_count": 55,
     "metadata": {},
     "output_type": "execute_result"
    }
   ],
   "source": [
    "#checking the result\n",
    "documents[0]"
   ]
  },
  {
   "cell_type": "markdown",
   "id": "1614bbdc-e4c3-405d-ad2e-b2897d5fd645",
   "metadata": {},
   "source": [
    "Now we load the data into MongoDB:"
   ]
  },
  {
   "cell_type": "code",
   "execution_count": 56,
   "id": "44b533e0-bb54-43af-a0d0-9f34423e46ef",
   "metadata": {},
   "outputs": [],
   "source": [
    "for doc in documents:\n",
    "    col.insert_one(doc)"
   ]
  },
  {
   "cell_type": "code",
   "execution_count": 57,
   "id": "c77c6896-aeba-41b5-b05f-87a17bc219ce",
   "metadata": {},
   "outputs": [
    {
     "data": {
      "text/plain": [
       "104272"
      ]
     },
     "execution_count": 57,
     "metadata": {},
     "output_type": "execute_result"
    }
   ],
   "source": [
    "#All the docs have been loaded\n",
    "col.count_documents({})"
   ]
  },
  {
   "cell_type": "markdown",
   "id": "320855d0-1825-41fc-90b5-a85340e32f53",
   "metadata": {},
   "source": [
    "## 4. Transform"
   ]
  },
  {
   "cell_type": "code",
   "execution_count": null,
   "id": "fc93cdd3-5dd1-4051-87c1-877c2ce4ccde",
   "metadata": {},
   "outputs": [],
   "source": [
    "#Connect to the DB\n",
    "CNX_STR = \"mongodb+srv://...\"\n",
    "client = pymongo.MongoClient(CNX_STR)\n",
    "db = client['db_obesity_usa'].USA"
   ]
  },
  {
   "cell_type": "markdown",
   "id": "0d0771c9-d154-4635-88c6-91114f08aea0",
   "metadata": {},
   "source": [
    "### 4.1. Missing Values"
   ]
  },
  {
   "cell_type": "markdown",
   "id": "f87f5b4d-ff07-4eb1-84a6-627e5673a02a",
   "metadata": {},
   "source": [
    "For some questions, data is not available because sample size is insufficient. In that case, a footnote is present:"
   ]
  },
  {
   "cell_type": "code",
   "execution_count": 59,
   "id": "a85b148e-523f-4923-8c0e-999d09612231",
   "metadata": {},
   "outputs": [
    {
     "data": {
      "text/plain": [
       "[None, 'Data not available because sample size is insufficient.']"
      ]
     },
     "execution_count": 59,
     "metadata": {},
     "output_type": "execute_result"
    }
   ],
   "source": [
    "db.distinct(\"footnote\")"
   ]
  },
  {
   "cell_type": "code",
   "execution_count": 60,
   "id": "6438c035-dfee-427f-ae06-7496dca73d40",
   "metadata": {
    "scrolled": true
   },
   "outputs": [
    {
     "data": {
      "text/html": [
       "<div>\n",
       "<style scoped>\n",
       "    .dataframe tbody tr th:only-of-type {\n",
       "        vertical-align: middle;\n",
       "    }\n",
       "\n",
       "    .dataframe tbody tr th {\n",
       "        vertical-align: top;\n",
       "    }\n",
       "\n",
       "    .dataframe thead th {\n",
       "        text-align: right;\n",
       "    }\n",
       "</style>\n",
       "<table border=\"1\" class=\"dataframe\">\n",
       "  <thead>\n",
       "    <tr style=\"text-align: right;\">\n",
       "      <th></th>\n",
       "      <th>_id</th>\n",
       "      <th>count</th>\n",
       "    </tr>\n",
       "  </thead>\n",
       "  <tbody>\n",
       "    <tr>\n",
       "      <th>0</th>\n",
       "      <td>None</td>\n",
       "      <td>93505</td>\n",
       "    </tr>\n",
       "    <tr>\n",
       "      <th>1</th>\n",
       "      <td>Data not available because sample size is insufficient.</td>\n",
       "      <td>10767</td>\n",
       "    </tr>\n",
       "  </tbody>\n",
       "</table>\n",
       "</div>"
      ],
      "text/plain": [
       "                                                       _id  count\n",
       "0                                                     None  93505\n",
       "1  Data not available because sample size is insufficient.  10767"
      ]
     },
     "execution_count": 60,
     "metadata": {},
     "output_type": "execute_result"
    }
   ],
   "source": [
    "#check the number of documents with no data\n",
    "r = db.aggregate([\n",
    "    {\"$group\":{\"_id\": \"$footnote\", \"count\":{\"$sum\":1}}}\n",
    "     ])\n",
    "pd.DataFrame(r)"
   ]
  },
  {
   "cell_type": "code",
   "execution_count": 61,
   "id": "9ffbb7a4-bacd-4422-a618-09ad0576e578",
   "metadata": {},
   "outputs": [
    {
     "name": "stdout",
     "output_type": "stream",
     "text": [
      "Deleted 10767 documents with the specified footnote.\n"
     ]
    }
   ],
   "source": [
    "# These documents with a footnote can be removed from the database\n",
    "\n",
    "result = db.delete_many({\"footnote\": \n",
    "                         \"Data not available because sample size is insufficient.\"})\n",
    "print(f\"Deleted {result.deleted_count} documents with the specified footnote.\")"
   ]
  },
  {
   "cell_type": "code",
   "execution_count": 62,
   "id": "0e18794b-c34e-461f-a79c-c29569129cd3",
   "metadata": {},
   "outputs": [
    {
     "name": "stdout",
     "output_type": "stream",
     "text": [
      "No entries found with 'None'\n"
     ]
    }
   ],
   "source": [
    "# let's check if there are some missing values found in \"percent\",\n",
    "# \"percent_alt\" or \"sample_size\"\n",
    "\n",
    "matches = list(db.find({\"$or\": [{\"percent\": None}, {\"percent_alt\": None},\n",
    "                                {\"sample_size\":None}]}))\n",
    "\n",
    "if matches:\n",
    "    for m in matches:\n",
    "        pprint(m)\n",
    "else:\n",
    "    print(\"No entries found with 'None'\")"
   ]
  },
  {
   "cell_type": "markdown",
   "id": "488b504f-7a7f-4ba1-963b-c91a3e0b611b",
   "metadata": {},
   "source": [
    "Therefore, we consider that there are no missing values for answers to the questions."
   ]
  },
  {
   "cell_type": "markdown",
   "id": "cc82024c-5b48-44f8-8f7b-722a9d849a67",
   "metadata": {},
   "source": [
    "### 4.2. Removing Unnecessary or Duplicate Fields"
   ]
  },
  {
   "cell_type": "markdown",
   "id": "b5937c57-09f2-43be-afd3-53dc470a11f0",
   "metadata": {},
   "source": [
    "#### 4.2.1. \"year_start\" and \"year_end\""
   ]
  },
  {
   "cell_type": "markdown",
   "id": "68345c4c-0652-476c-9ad0-23cc86fb0288",
   "metadata": {},
   "source": [
    "We want to check if year_start and year_end are ever different. If it is the case, then we keep both fields. Otherwise, we keep just one field for the year. "
   ]
  },
  {
   "cell_type": "code",
   "execution_count": 63,
   "id": "54682115-3988-45a8-af72-8c34ca2d03b4",
   "metadata": {},
   "outputs": [
    {
     "name": "stdout",
     "output_type": "stream",
     "text": [
      "Non-matching entries were not found\n"
     ]
    }
   ],
   "source": [
    "year_non_matches = db.aggregate([\n",
    "    \n",
    "    #making sure that year_start and year_end are integers\n",
    "    {\"$addFields\": {\n",
    "        \"year_start\": {\"$toInt\":\"$year_start\"}, \n",
    "        \"year_end\":{\"$toInt\":\"$year_end\"}}}, \n",
    "    \n",
    "    #match on the non-matching entries\n",
    "    {\"$match\":{\n",
    "        \"$expr\": {\"$ne\": [\"$year_start\", \"$year_end\"]}}\n",
    "    },\n",
    "    \n",
    "    #project the needed fields\n",
    "    {\"$project\": {\"year_start\": 1, \"year_end\": 1}}\n",
    "     ])\n",
    "\n",
    "for m in year_non_matches:\n",
    "        pprint(m)\n",
    "else:\n",
    "    print(\"Non-matching entries were not found\")"
   ]
  },
  {
   "cell_type": "code",
   "execution_count": 64,
   "id": "68492b5d-8d77-425b-ba8a-264add8ead1f",
   "metadata": {},
   "outputs": [
    {
     "data": {
      "text/plain": [
       "[None,\n",
       " '2011',\n",
       " '2012',\n",
       " '2013',\n",
       " '2014',\n",
       " '2015',\n",
       " '2016',\n",
       " '2017',\n",
       " '2018',\n",
       " '2019',\n",
       " '2020',\n",
       " '2021']"
      ]
     },
     "execution_count": 64,
     "metadata": {},
     "output_type": "execute_result"
    }
   ],
   "source": [
    "#the \"year\" field has some missing values\n",
    "db.distinct(\"year\")"
   ]
  },
  {
   "cell_type": "markdown",
   "id": "1c364295-2a86-4465-b3da-45e18af59a59",
   "metadata": {},
   "source": [
    "Since year_start and year_end are always the same and year has some missing values, we only keep \"year_start\" as the \"year\":"
   ]
  },
  {
   "cell_type": "code",
   "execution_count": 65,
   "id": "2c3491c1-1de9-4809-998d-9a415e54fc21",
   "metadata": {},
   "outputs": [
    {
     "name": "stdout",
     "output_type": "stream",
     "text": [
      "Unset 'year' and 'year_end' fields in 93505 documents.\n",
      "Renamed 'year_start' to 'year' in 93505 documents.\n"
     ]
    }
   ],
   "source": [
    "# remove year_start and year_end:\n",
    "\n",
    "result_unset = db.update_many(\n",
    "    {},\n",
    "    {\"$unset\": {\"year\":\"\", \"year_end\":\"\"}})\n",
    "\n",
    "print(f\"Unset 'year' and 'year_end' fields in {result_unset.modified_count} documents.\")\n",
    "\n",
    "\n",
    "\n",
    "#rename year_start as year:\n",
    "\n",
    "result_rename = db.update_many(\n",
    "    {},\n",
    "    {\"$rename\": {\"year_start\":\"year\"}})\n",
    "\n",
    "print(f\"Renamed 'year_start' to 'year' in {result_rename.modified_count} documents.\")"
   ]
  },
  {
   "cell_type": "markdown",
   "id": "9d790328-e9bf-48b5-b833-be6bacc28967",
   "metadata": {},
   "source": [
    "#### 4.2.2. \"percent\" and \"percent_alt\""
   ]
  },
  {
   "cell_type": "markdown",
   "id": "256a4fb3-5f8a-4574-8dfb-fa518c014f63",
   "metadata": {},
   "source": [
    "We do the same for \"percent\" and \"percent_alt\":"
   ]
  },
  {
   "cell_type": "code",
   "execution_count": 66,
   "id": "5b4d501d-d00b-418e-ae4a-d2ec8db8c1e7",
   "metadata": {},
   "outputs": [
    {
     "name": "stdout",
     "output_type": "stream",
     "text": [
      "Non-matching entries were not found\n"
     ]
    }
   ],
   "source": [
    "# check if there are non-matching \"percent\" and \"percent_alt\" \n",
    "# entries for the same question\n",
    "\n",
    "percent_non_matches = db.aggregate([\n",
    "    \n",
    "    #making sure that year_start and year_end are integers\n",
    "    {\"$addFields\": {\n",
    "        \"percent\": {\"$toDouble\":\"$percent\"}, \n",
    "        \"percent_alt\":{\"$toDouble\":\"$percent\"}}},\n",
    "    \n",
    "    #matching the necessary fields\n",
    "    {\"$match\":{\n",
    "        \"$expr\": {\"$ne\": [\"$percent\", \"$percent_alt\"]}}\n",
    "    },\n",
    "    \n",
    "    #project stage\n",
    "    {\"$project\": {\"percent\": 1, \"percent_alt\": 1}}\n",
    "     ])\n",
    "\n",
    "for m in percent_non_matches:\n",
    "        pprint(m)\n",
    "else:\n",
    "    print(\"Non-matching entries were not found\")"
   ]
  },
  {
   "cell_type": "code",
   "execution_count": 67,
   "id": "bf6990fc-1dab-4f46-a853-fe2d8c9099a8",
   "metadata": {},
   "outputs": [
    {
     "name": "stdout",
     "output_type": "stream",
     "text": [
      "Unset 'percent_alt' field in 93505 documents.\n"
     ]
    }
   ],
   "source": [
    "# remove \"percent_alt\" since it is always identical to \"percent\":\n",
    "\n",
    "result_update =db.update_many(\n",
    "    {},\n",
    "    {\"$unset\": {\"percent_alt\":\"\"}})\n",
    "\n",
    "print(f\"Unset 'percent_alt' field in {result_update.modified_count} documents.\")"
   ]
  },
  {
   "cell_type": "markdown",
   "id": "8e00ca2d-87d0-48bf-bf7b-9f90df96773e",
   "metadata": {},
   "source": [
    "#### 4.2.3. \"class_data_1\" and \"class_data_2\""
   ]
  },
  {
   "cell_type": "code",
   "execution_count": 68,
   "id": "6956c0f9-6b82-4142-a242-d7efaba57df5",
   "metadata": {},
   "outputs": [
    {
     "name": "stdout",
     "output_type": "stream",
     "text": [
      "There are 58117 non-matching fields\n"
     ]
    }
   ],
   "source": [
    "# Are there non-matching \"class_data_1\" and \"class_data_2\" entries per question?:\n",
    "\n",
    "r = db.aggregate([\n",
    "    {\"$match\":{\n",
    "        \"$expr\": {\"$ne\": [\"$class_data_1\", \"$class_data_2\"]}}\n",
    "    },\n",
    "    {\"$project\": {\"class_data_1\": 1, \"class_data_2\": 1}}\n",
    "     ])\n",
    "\n",
    "amount_entries = len(pd.DataFrame(r))\n",
    "print(f\"There are {amount_entries} non-matching fields\")"
   ]
  },
  {
   "cell_type": "markdown",
   "id": "aad00166",
   "metadata": {},
   "source": [
    "Here we want to examine a bit closer what \"class_data_1\" and \"class_data_2\" consist of to be able to decide if duplicates should be removed or not:"
   ]
  },
  {
   "cell_type": "code",
   "execution_count": 69,
   "id": "6df361d9-a5fe-4ba7-8451-db04dcfc0383",
   "metadata": {},
   "outputs": [
    {
     "data": {
      "text/plain": [
       "['Fruits and Vegetables', 'Obesity / Weight Status', 'Physical Activity']"
      ]
     },
     "execution_count": 69,
     "metadata": {},
     "output_type": "execute_result"
    }
   ],
   "source": [
    "db.distinct(\"class_data_1\")"
   ]
  },
  {
   "cell_type": "code",
   "execution_count": 70,
   "id": "43f1daa4-b5ba-4c39-8f16-9a9659666f41",
   "metadata": {},
   "outputs": [
    {
     "data": {
      "text/plain": [
       "['Fruits and Vegetables - Behavior',\n",
       " 'Obesity / Weight Status',\n",
       " 'Physical Activity - Behavior']"
      ]
     },
     "execution_count": 70,
     "metadata": {},
     "output_type": "execute_result"
    }
   ],
   "source": [
    "db.distinct(\"class_data_2\")"
   ]
  },
  {
   "cell_type": "markdown",
   "id": "1ed48a26-6c23-4e46-a806-b7f23786df40",
   "metadata": {},
   "source": [
    "\"class_data_1\" indicates the theme of the question and \"class_data_2\" seems to indicate the specific topic of the question. A minority are identical. We therefore keep both fields and rename them accordingly:"
   ]
  },
  {
   "cell_type": "code",
   "execution_count": 71,
   "id": "69402038-2e56-4f6c-9c05-c119e52c6e39",
   "metadata": {},
   "outputs": [
    {
     "name": "stdout",
     "output_type": "stream",
     "text": [
      "Renamed fields in 93505 documents.\n"
     ]
    }
   ],
   "source": [
    "# Rename \"class_data_1\" and \"class_data_2\":\n",
    "\n",
    "rename_class = db.update_many(\n",
    "    {},\n",
    "    {\"$rename\": {\"class_data_1\":\"theme_of_question\", \"class_data_2\":\"topic_of_question\"}})\n",
    "\n",
    "print(f\"Renamed fields in {rename_class.modified_count} documents.\")"
   ]
  },
  {
   "cell_type": "markdown",
   "id": "b201d5bd-652b-4b1c-ba5d-acc8327cced9",
   "metadata": {},
   "source": [
    "#### 4.2.4. Remove Fields which are Always Empty or Never Change"
   ]
  },
  {
   "cell_type": "markdown",
   "id": "b2c235d9",
   "metadata": {},
   "source": [
    "Here we can see that there are some fields which are always empty or have constant values. We need to remove them."
   ]
  },
  {
   "cell_type": "code",
   "execution_count": 72,
   "id": "eee1248c-0752-4398-82b1-f7aac6270769",
   "metadata": {},
   "outputs": [
    {
     "name": "stdout",
     "output_type": "stream",
     "text": [
      "these are the unique values of row_number:[0]\n",
      "these are the unique values of timestamp_1:[1728324395]\n",
      "these are the unique values of timestamp_2:[1728324395]\n",
      "these are the unique values of data_Source:['BRFSS']\n",
      "these are the unique values of data_value_footnote_symbol:[None]\n",
      "these are the unique values of footnote:[None]\n",
      "these are the unique values of data_value_type:['VALUE']\n",
      "these are the unique values of null_field1:[None]\n",
      "these are the unique values of null_field2:[None]\n",
      "these are the unique values of json_field:['{ }']\n",
      "these are the unique values of type:['Value']\n"
     ]
    }
   ],
   "source": [
    "# the below fields are always empty or the same:\n",
    "\n",
    "fields_to_check = [\"row_number\", \"timestamp_1\", \"timestamp_2\",\n",
    "                   \"data_Source\", \n",
    "                   \"data_value_footnote_symbol\",\n",
    "                   \"footnote\",\"data_value_type\",\n",
    "                   \"null_field1\", \"null_field2\", \"json_field\", \"type\"]\n",
    "\n",
    "for field in fields_to_check:\n",
    "    check = db.distinct(field)\n",
    "    print(f\"these are the unique values of {field}:{check}\")"
   ]
  },
  {
   "cell_type": "code",
   "execution_count": 73,
   "id": "9df4a77d-75db-4d0e-a51f-25c8f1df12d0",
   "metadata": {},
   "outputs": [
    {
     "name": "stdout",
     "output_type": "stream",
     "text": [
      "Removed fields in 93505 documents.\n"
     ]
    }
   ],
   "source": [
    "# We remove the above fields from the collection:\n",
    "\n",
    "remove_fields = db.update_many(\n",
    "    {},\n",
    "    {\"$unset\": {\"row_number\":\"\", \"timestamp_1\":\"\", \"timestamp_2\":\"\",\n",
    "                \"data_Source\":\"\",\"data_value_footnote_symbol\":\"\", \n",
    "                \"footnote\":\"\",\"data_value_type\":\"\",  \"null_field1\":\"\",  \n",
    "                \"null_field2\":\"\",\"json_field\":\"\", \"type\":\"\"}})\n",
    "\n",
    "print(f\"Removed fields in {remove_fields.modified_count} documents.\")"
   ]
  },
  {
   "cell_type": "markdown",
   "id": "a68ee46c-d3f4-4e1a-870b-254e5a1c51c5",
   "metadata": {},
   "source": [
    "### 4.3. Embed the Data Related to the Population"
   ]
  },
  {
   "cell_type": "markdown",
   "id": "d10206a4-1510-4599-8be8-8b5e48ffffbc",
   "metadata": {},
   "source": [
    "There are multiple advantages to using a de-normalized model instead of a normalized one in this instance:\n",
    "\n",
    "1) We have a database which should not be updated regularly. The only updates would be additional data points for future years.\n",
    "\n",
    "2) Since all related data is in a single document, we will have atomic operations.\n",
    "\n",
    "3) Common operations will require fewer queries and updates.\n",
    "\n",
    "4) For each state, we have many questions and many starta of various populations being considered. The answers are in turn viewed in the context of the questions.\n",
    "\n",
    "5) We will be frequently retrieving data related to the population for our analyses"
   ]
  },
  {
   "cell_type": "code",
   "execution_count": 74,
   "id": "d5c2070f-f75d-4e4d-b0c2-73e42cf1b769",
   "metadata": {},
   "outputs": [
    {
     "name": "stdout",
     "output_type": "stream",
     "text": [
      "We embedded data in 93505 documents.\n"
     ]
    }
   ],
   "source": [
    "# We embed data related to the population:\n",
    "\n",
    "embed_data = db.update_many(\n",
    "    {},\n",
    "    [\n",
    "        {\"$set\":{\n",
    "            \"population_information\":{\n",
    "                \"age\":\"$age\",\n",
    "                \"education\":\"$education\",\n",
    "                \"income\":\"$income\",\n",
    "                \"ethnicity\":\"$ethnicity\",\n",
    "                \"gender\":\"$gender\",\n",
    "                \"sample_size\":\"$sample_size\",\n",
    "                \"total\":\"$total\",\n",
    "                \"stratification_category\":\"$stratification_category\",\n",
    "                \"stratification\":\"$stratification\",\n",
    "                \"stratification_category_ID_1\":\"$stratification_category_ID_1\",\n",
    "                \"stratification_category_ID_2\":\"$stratification_category_ID_2\"\n",
    "            }}}, \n",
    "        {\"$unset\": [\"age\", \"education\", \"income\", \"ethnicity\", \"gender\", \"sample_size\",\n",
    "                    \"total\", \"stratification_category\", \n",
    "                    \"stratification\",\n",
    "                    \"stratification_category_ID_1\", \"stratification_category_ID_2\"]}\n",
    "    ])\n",
    "\n",
    "print(f\"We embedded data in {embed_data.modified_count} documents.\")"
   ]
  },
  {
   "cell_type": "markdown",
   "id": "2d84abb0-c2d6-410c-a867-bc65caa054d0",
   "metadata": {},
   "source": [
    "### 4.4. Check for Duplicate Entries"
   ]
  },
  {
   "cell_type": "markdown",
   "id": "c48501b6-c98a-4819-ad70-97671688ff00",
   "metadata": {},
   "source": [
    "There are duplicate questions in the document for the same years and States. However, after further investigation, we realize that these questions always have differences in the population characteristics (e.g. a particular ethnicity or age group). Therefore, we choose to keep all documents currently in the collection."
   ]
  },
  {
   "cell_type": "markdown",
   "id": "b2e9e61e-eafc-4baa-a16b-ad1d60269474",
   "metadata": {},
   "source": [
    "Here we can see that there are some duplicate questions and percentages per State and per year:"
   ]
  },
  {
   "cell_type": "code",
   "execution_count": 76,
   "id": "e14155b6-9f06-4d49-9486-06e9882477a2",
   "metadata": {},
   "outputs": [
    {
     "data": {
      "text/html": [
       "<div>\n",
       "<style scoped>\n",
       "    .dataframe tbody tr th:only-of-type {\n",
       "        vertical-align: middle;\n",
       "    }\n",
       "\n",
       "    .dataframe tbody tr th {\n",
       "        vertical-align: top;\n",
       "    }\n",
       "\n",
       "    .dataframe thead th {\n",
       "        text-align: right;\n",
       "    }\n",
       "</style>\n",
       "<table border=\"1\" class=\"dataframe\">\n",
       "  <thead>\n",
       "    <tr style=\"text-align: right;\">\n",
       "      <th></th>\n",
       "      <th>Question</th>\n",
       "      <th>count</th>\n",
       "    </tr>\n",
       "  </thead>\n",
       "  <tbody>\n",
       "    <tr>\n",
       "      <th>0</th>\n",
       "      <td>{'a': '2019', 'b': 'Montana', 'c': 'Percent of adults who engage in no leisure-time physical activity', 'd': '21.1'}</td>\n",
       "      <td>2</td>\n",
       "    </tr>\n",
       "    <tr>\n",
       "      <th>1</th>\n",
       "      <td>{'a': '2017', 'b': 'North Dakota', 'c': 'Percent of adults who report consuming fruit less than one time daily', 'd': '37.4'}</td>\n",
       "      <td>2</td>\n",
       "    </tr>\n",
       "    <tr>\n",
       "      <th>2</th>\n",
       "      <td>{'a': '2011', 'b': 'Arkansas', 'c': 'Percent of adults who achieve at least 300 minutes a week of moderate-intensity aerobic physical activity or 150 minutes a week of vigorous-intensity aerobic activity (or an equivalent combination)', 'd': '26.9'}</td>\n",
       "      <td>2</td>\n",
       "    </tr>\n",
       "    <tr>\n",
       "      <th>3</th>\n",
       "      <td>{'a': '2023', 'b': 'Illinois', 'c': 'Percent of adults who achieve at least 300 minutes a week of moderate-intensity aerobic physical activity or 150 minutes a week of vigorous-intensity aerobic activity (or an equivalent combination)', 'd': '43.2'}</td>\n",
       "      <td>2</td>\n",
       "    </tr>\n",
       "    <tr>\n",
       "      <th>4</th>\n",
       "      <td>{'a': '2015', 'b': 'Tennessee', 'c': 'Percent of adults who achieve at least 150 minutes a week of moderate-intensity aerobic physical activity or 75 minutes a week of vigorous-intensity aerobic activity (or an equivalent combination)', 'd': '46.3'}</td>\n",
       "      <td>2</td>\n",
       "    </tr>\n",
       "    <tr>\n",
       "      <th>...</th>\n",
       "      <td>...</td>\n",
       "      <td>...</td>\n",
       "    </tr>\n",
       "    <tr>\n",
       "      <th>5607</th>\n",
       "      <td>{'a': '2015', 'b': 'Puerto Rico', 'c': 'Percent of adults who achieve at least 300 minutes a week of moderate-intensity aerobic physical activity or 150 minutes a week of vigorous-intensity aerobic activity (or an equivalent combination)', 'd': '17.2'}</td>\n",
       "      <td>2</td>\n",
       "    </tr>\n",
       "    <tr>\n",
       "      <th>5608</th>\n",
       "      <td>{'a': '2012', 'b': 'Minnesota', 'c': 'Percent of adults aged 18 years and older who have an overweight classification', 'd': '33.5'}</td>\n",
       "      <td>2</td>\n",
       "    </tr>\n",
       "    <tr>\n",
       "      <th>5609</th>\n",
       "      <td>{'a': '2019', 'b': 'Puerto Rico', 'c': 'Percent of adults aged 18 years and older who have obesity', 'd': '35.5'}</td>\n",
       "      <td>2</td>\n",
       "    </tr>\n",
       "    <tr>\n",
       "      <th>5610</th>\n",
       "      <td>{'a': '2019', 'b': 'Alabama', 'c': 'Percent of adults who report consuming fruit less than one time daily', 'd': '47.3'}</td>\n",
       "      <td>2</td>\n",
       "    </tr>\n",
       "    <tr>\n",
       "      <th>5611</th>\n",
       "      <td>{'a': '2011', 'b': 'Pennsylvania', 'c': 'Percent of adults who achieve at least 150 minutes a week of moderate-intensity aerobic physical activity or 75 minutes a week of vigorous-intensity aerobic activity (or an equivalent combination)', 'd': '44.5'}</td>\n",
       "      <td>2</td>\n",
       "    </tr>\n",
       "  </tbody>\n",
       "</table>\n",
       "<p>5612 rows × 2 columns</p>\n",
       "</div>"
      ],
      "text/plain": [
       "                                                                                                                                                                                                                                                          Question  \\\n",
       "0                                                                                                                                             {'a': '2019', 'b': 'Montana', 'c': 'Percent of adults who engage in no leisure-time physical activity', 'd': '21.1'}   \n",
       "1                                                                                                                                    {'a': '2017', 'b': 'North Dakota', 'c': 'Percent of adults who report consuming fruit less than one time daily', 'd': '37.4'}   \n",
       "2        {'a': '2011', 'b': 'Arkansas', 'c': 'Percent of adults who achieve at least 300 minutes a week of moderate-intensity aerobic physical activity or 150 minutes a week of vigorous-intensity aerobic activity (or an equivalent combination)', 'd': '26.9'}   \n",
       "3        {'a': '2023', 'b': 'Illinois', 'c': 'Percent of adults who achieve at least 300 minutes a week of moderate-intensity aerobic physical activity or 150 minutes a week of vigorous-intensity aerobic activity (or an equivalent combination)', 'd': '43.2'}   \n",
       "4        {'a': '2015', 'b': 'Tennessee', 'c': 'Percent of adults who achieve at least 150 minutes a week of moderate-intensity aerobic physical activity or 75 minutes a week of vigorous-intensity aerobic activity (or an equivalent combination)', 'd': '46.3'}   \n",
       "...                                                                                                                                                                                                                                                            ...   \n",
       "5607  {'a': '2015', 'b': 'Puerto Rico', 'c': 'Percent of adults who achieve at least 300 minutes a week of moderate-intensity aerobic physical activity or 150 minutes a week of vigorous-intensity aerobic activity (or an equivalent combination)', 'd': '17.2'}   \n",
       "5608                                                                                                                          {'a': '2012', 'b': 'Minnesota', 'c': 'Percent of adults aged 18 years and older who have an overweight classification', 'd': '33.5'}   \n",
       "5609                                                                                                                                             {'a': '2019', 'b': 'Puerto Rico', 'c': 'Percent of adults aged 18 years and older who have obesity', 'd': '35.5'}   \n",
       "5610                                                                                                                                      {'a': '2019', 'b': 'Alabama', 'c': 'Percent of adults who report consuming fruit less than one time daily', 'd': '47.3'}   \n",
       "5611  {'a': '2011', 'b': 'Pennsylvania', 'c': 'Percent of adults who achieve at least 150 minutes a week of moderate-intensity aerobic physical activity or 75 minutes a week of vigorous-intensity aerobic activity (or an equivalent combination)', 'd': '44.5'}   \n",
       "\n",
       "      count  \n",
       "0         2  \n",
       "1         2  \n",
       "2         2  \n",
       "3         2  \n",
       "4         2  \n",
       "...     ...  \n",
       "5607      2  \n",
       "5608      2  \n",
       "5609      2  \n",
       "5610      2  \n",
       "5611      2  \n",
       "\n",
       "[5612 rows x 2 columns]"
      ]
     },
     "execution_count": 76,
     "metadata": {},
     "output_type": "execute_result"
    }
   ],
   "source": [
    "# Identify duplicate questions per State and Year with the same answers :\n",
    "\n",
    "r = db.aggregate([\n",
    "    \n",
    "    # group by year, State, question and percent and count occurences:\n",
    "    {\"$group\": {\n",
    "        \"_id\":{\"a\":\"$year\", \"b\":\"$state\", \"c\":\"$question\",\"d\":\"$percent\"},\n",
    "        \"count\":{\"$sum\":1}}},\n",
    "    \n",
    "    # keep only questions which have one or more duplicates\n",
    "    {\"$match\": {\"count\": {\"$gt\":1}}},\n",
    "    \n",
    "    #organize the output\n",
    "    {\"$project\": {\"_id\":0, \"Question\": \"$_id\", \"count\":\"$count\"}},\n",
    "])\n",
    "pd.DataFrame(r)"
   ]
  },
  {
   "cell_type": "markdown",
   "id": "df3433d3-be88-4920-93cd-20e7b8446965",
   "metadata": {},
   "source": [
    "However, in this next aggregation we can see that there are in fact no duplicate entries since adding \"population_information\" to \"$group\" yields no matches, meaning that different strata of the population are considered for each question:"
   ]
  },
  {
   "cell_type": "code",
   "execution_count": 77,
   "id": "5f5a57aa-88a1-46df-8ba6-78d3f4173e5b",
   "metadata": {},
   "outputs": [
    {
     "name": "stdout",
     "output_type": "stream",
     "text": [
      "Duplicates were not found\n"
     ]
    }
   ],
   "source": [
    "duplicates = db.aggregate([\n",
    "    \n",
    "    # group by year, State, question, percent and popluation_information\n",
    "    # and count occurences:\n",
    "    {\"$group\": {\n",
    "        \"_id\":{\"year\": \"$year\", \"State\":\"$state\",\"question\":\"$question\", \n",
    "               \"percent\": \"$percent\",\n",
    "               \"population_information\":\"$population_information\"},\n",
    "        \"count\":{\"$sum\":1}}},\n",
    "    \n",
    "    #return only questions with one or more duplicates\n",
    "    {\"$match\": {\"count\": {\"$gt\":1}}}\n",
    "])\n",
    "\n",
    "for d in duplicates:\n",
    "        pprint(d)\n",
    "else:\n",
    "    print(\"Duplicates were not found\")"
   ]
  },
  {
   "cell_type": "markdown",
   "id": "32058a9d-2792-4ea1-bb6c-b017e23d4930",
   "metadata": {},
   "source": [
    "## 5. Data Structure "
   ]
  },
  {
   "attachments": {
    "6fa4eb9d-0fe1-4c35-83ff-9bbb1247b7cb.png": {
     "image/png": "[encoded data removed]"
    }
   },
   "cell_type": "markdown",
   "id": "494c476f-9561-4ca1-a323-79092a288121",
   "metadata": {},
   "source": [
    "![XLF1RgGm3Btp5Va13hj7JdDOQTNRL3rMLPH9F60fn3GnRMT6_VU6548GcfO3sEyvpzQBEGHMdiVULjgg4CGJAmPnguImf1KZEOcc4GmV7B6wZY-dUiY8Efqyl66gpA0cyWPTL0gDQ87aeYMUNwhFQcxrloHInnZoQAAueV5a8GtXsZqs3sQ05ThG.png](attachment:6fa4eb9d-0fe1-4c35-83ff-9bbb1247b7cb.png)"
   ]
  },
  {
   "cell_type": "markdown",
   "id": "1dadee64-9f8a-40d1-8576-dd29234beddc",
   "metadata": {},
   "source": [
    "In this class diagram, we can see that each State is associated to many questions. Likewise, questions are associated to many States. Each question's answer is a percentage with a high and low confidence limit. Population_information is embedded data that is associated to each question. Geo_location is located in an array and is associated to each State. It also has embedded data which concern location details such as address, city, State and zip. "
   ]
  },
  {
   "cell_type": "markdown",
   "id": "00ff413c-2706-484c-920b-c145d3450b00",
   "metadata": {},
   "source": [
    "## 6. Dataflow"
   ]
  },
  {
   "attachments": {
    "ef6c623c-877f-46ab-8382-db3fbe0d83cb.png": {
     "image/png": "[encoded data removed]"
    }
   },
   "cell_type": "markdown",
   "id": "4595ba07-0b42-4d54-a076-ce4bcbf71b00",
   "metadata": {},
   "source": [
    "![2024-11-04 23_30_44-MongoDB dataflow - Whiteboard - Canva.png](attachment:ef6c623c-877f-46ab-8382-db3fbe0d83cb.png)"
   ]
  },
  {
   "cell_type": "markdown",
   "id": "56f61bdc-8e01-4b7a-8619-3baf659a49dd",
   "metadata": {},
   "source": [
    "The above shows how we proceed and the resulting dataflow. The data is first downloaded from the Data.gov url, then loaded in MongoDB Atlas. Then it is cleaned and transformed in the jupyter notebook with pymongo before being updated in the database. We will then use the data in MongoDB Atlas to make our analysis before finally producing the PDF report output."
   ]
  },
  {
   "cell_type": "code",
   "execution_count": null,
   "id": "7bd0eef8",
   "metadata": {},
   "outputs": [],
   "source": [
    "\n",
    "\n",
    "\n",
    "\n"
   ]
  },
  {
   "cell_type": "markdown",
   "id": "e2fa86ce-b0ed-4fef-85bd-57af47dc5f11",
   "metadata": {},
   "source": [
    "## 7. Data Analysis"
   ]
  },
  {
   "cell_type": "markdown",
   "id": "420bc673-a465-48c3-a907-4c5dc43043e8",
   "metadata": {},
   "source": [
    "### 7.1. Which State Has the Highest Percentage of Adults who are either Obese or Overweight?"
   ]
  },
  {
   "cell_type": "markdown",
   "id": "f1e59086-bfa5-4406-9d97-9cac4e0db095",
   "metadata": {},
   "source": [
    "First, let us consider the percentage of adults who are obese. "
   ]
  },
  {
   "cell_type": "markdown",
   "id": "ffbce40f-5557-462a-afcb-4a5e8a440bc7",
   "metadata": {},
   "source": [
    "We select the documents with a field indicating \"total\" answering the question : \"Percent of adults 18 years and older who have obesity\". \"Total\" indicates that we are looking at the percentage for the overall sample size of the survey, without taking into account specific characteristics of the population. We use the percentage indicated in each year per State and make an average over 12 years. "
   ]
  },
  {
   "cell_type": "code",
   "execution_count": 493,
   "id": "3aa14d98-59a9-435c-a2c9-f77ac48f1979",
   "metadata": {},
   "outputs": [
    {
     "data": {
      "text/html": [
       "<div>\n",
       "<style scoped>\n",
       "    .dataframe tbody tr th:only-of-type {\n",
       "        vertical-align: middle;\n",
       "    }\n",
       "\n",
       "    .dataframe tbody tr th {\n",
       "        vertical-align: top;\n",
       "    }\n",
       "\n",
       "    .dataframe thead th {\n",
       "        text-align: right;\n",
       "    }\n",
       "</style>\n",
       "<table border=\"1\" class=\"dataframe\">\n",
       "  <thead>\n",
       "    <tr style=\"text-align: right;\">\n",
       "      <th></th>\n",
       "      <th>State</th>\n",
       "      <th>Average</th>\n",
       "    </tr>\n",
       "  </thead>\n",
       "  <tbody>\n",
       "    <tr>\n",
       "      <th>0</th>\n",
       "      <td>West Virginia</td>\n",
       "      <td>37.653846</td>\n",
       "    </tr>\n",
       "    <tr>\n",
       "      <th>1</th>\n",
       "      <td>Mississippi</td>\n",
       "      <td>37.615385</td>\n",
       "    </tr>\n",
       "    <tr>\n",
       "      <th>2</th>\n",
       "      <td>Louisiana</td>\n",
       "      <td>36.415385</td>\n",
       "    </tr>\n",
       "    <tr>\n",
       "      <th>3</th>\n",
       "      <td>Arkansas</td>\n",
       "      <td>36.007692</td>\n",
       "    </tr>\n",
       "    <tr>\n",
       "      <th>4</th>\n",
       "      <td>Alabama</td>\n",
       "      <td>35.938462</td>\n",
       "    </tr>\n",
       "  </tbody>\n",
       "</table>\n",
       "</div>"
      ],
      "text/plain": [
       "           State    Average\n",
       "0  West Virginia  37.653846\n",
       "1    Mississippi  37.615385\n",
       "2      Louisiana  36.415385\n",
       "3       Arkansas  36.007692\n",
       "4        Alabama  35.938462"
      ]
     },
     "execution_count": 493,
     "metadata": {},
     "output_type": "execute_result"
    }
   ],
   "source": [
    "# Top 5 US States with the Highest Average Percentage of Obesity from 2011 to 2023\n",
    "\n",
    "r = db.aggregate([\n",
    "    \n",
    "    # Here we make sure that \"percent\" is a double\n",
    "    {\"$addFields\": {\"percent\": {\"$toDouble\":\"$percent\"}}},\n",
    "\n",
    "    # We select the fields we are interested in\n",
    "    {\"$project\":{\"_id\":0, \"state\":1, \"year\":1, \"question\":1, \"percent\":1,\n",
    "                 \"population_information\":1}},\n",
    "\n",
    "    # We select the specific question related to obesity of adults\n",
    "    # which concerns the total population sample\n",
    "    {\"$match\":{\"question\":\"Percent of adults aged 18 years and older who have obesity\",\n",
    "               \"population_information.total\":\"Total\"}}, \n",
    "\n",
    "    # Calculate the average per State\n",
    "    {\"$group\":{\"_id\":\"$state\", \"Average\": {\"$avg\":\"$percent\"}}},\n",
    "    \n",
    "    #Project the results\n",
    "    {\"$project\": {\"_id\":0, \"State\": \"$_id\",\n",
    "    \"Average\": \"$Average\"}},\n",
    "\n",
    "    # Order the averages from the highest to the lowest\n",
    "    {\"$sort\":{\"Average\":-1}},\n",
    "\n",
    "    #Return the top 5 US States\n",
    "    {\"$limit\":5}\n",
    "])\n",
    "pd.DataFrame(r)"
   ]
  },
  {
   "cell_type": "markdown",
   "id": "3a553c37-8ae5-4771-b318-e3beed30692a",
   "metadata": {},
   "source": [
    "West Virginia is the US State with the highest average percentage of obesity over the period from 2011 to 2023 at 37.65%, followed by Mississippi, Louisiana, Arkansas and Alabama. The percentages of obese people in the USA can be visualized on the following map, where we can see that the South-Eastern part of the United States has the most obese people overall:"
   ]
  },
  {
   "cell_type": "code",
   "execution_count": 79,
   "id": "24071ecf-1ca6-4e88-b9f4-2dae846f9fa0",
   "metadata": {
    "hiddent": true
   },
   "outputs": [
    {
     "data": {
      "image/png": "[encoded data removed]",
      "text/plain": [
       "<Figure size 800x400 with 2 Axes>"
      ]
     },
     "metadata": {},
     "output_type": "display_data"
    }
   ],
   "source": [
    "#US States' Average Percentage of Obesity\n",
    "\n",
    "r = db.aggregate([\n",
    "    \n",
    "    # Here we make sure that \"percent\" is a double\n",
    "    {\"$addFields\": {\"percent\": {\"$toDouble\":\"$percent\"}}},\n",
    "\n",
    "    # We select the fields we are interested in\n",
    "    {\"$project\":{\"_id\":0, \"state\":1, \"year\":1, \"question\":1, \"percent\":1,\n",
    "                 \"population_information\":1, \"geo_location\":1}},\n",
    "\n",
    "    # We select the specific question related to obesity of adults \n",
    "    #which concerns the total population sample\n",
    "    {\"$match\":{\"question\":\"Percent of adults aged 18 years and older who have obesity\",\n",
    "               \"population_information.total\":\"Total\"}}, \n",
    "\n",
    "    # Calculate the average per State\n",
    "    {\"$group\":{\"_id\":\"$state\", \"Average\": {\"$avg\":\"$percent\"}}},\n",
    "    \n",
    "    #Project the results\n",
    "    {\"$project\": {\"_id\":0, \"State\": \"$_id\",\n",
    "    \"Average\": \"$Average\"}}\n",
    "])\n",
    "table = pd.DataFrame(r)\n",
    "\n",
    "# We include State coordinates in our data frame \n",
    "path = r\"D:\\HSLU - Master's in Information and Data Science\\Automne 2024\\\n",
    "NoSQL_with_python_MongoDB\\tl_2023_us_state\\tl_2023_us_state.shp\"\n",
    "df = gpd.read_file(path)\n",
    "df = df.merge(table, how=\"left\", left_on=\"NAME\", right_on=\"State\")\n",
    "\n",
    "# We exclude oversea territories to obtain a clean visualization\n",
    "non_continental = ['VI','MP','HI','GU','AK','AS','PR']\n",
    "for n in non_continental:\n",
    "    df = df[df.STUSPS != n]\n",
    "\n",
    "#We display the map \n",
    "fig, ax = plt.subplots(1, 1, figsize=(8, 4))\n",
    "df.boundary.plot(ax=ax, linewidth=1)\n",
    "df.plot(column=\"Average\", cmap=\"Oranges\", legend=True, ax=ax, \n",
    "                legend_kwds={\"orientation\": \"vertical\"})\n",
    "\n",
    "# Add title and remove axis\n",
    "ax.set_title(\"Average Obesity Percentage per US State\")\n",
    "ax.axis(\"off\")\n",
    "\n",
    "# Display the map\n",
    "plt.show()"
   ]
  },
  {
   "cell_type": "markdown",
   "id": "802c9a4d-7cd2-4b5a-b068-077a63200b67",
   "metadata": {},
   "source": [
    "Furthermore, the highest percentage of people who are either overweight or obese is also found in the State of West Virginia with an average of 71.2% of people either overweight or obese:"
   ]
  },
  {
   "cell_type": "code",
   "execution_count": 368,
   "id": "f361c009-a3fa-4e7f-a32c-117aecfbe384",
   "metadata": {},
   "outputs": [
    {
     "data": {
      "text/html": [
       "<div>\n",
       "<style scoped>\n",
       "    .dataframe tbody tr th:only-of-type {\n",
       "        vertical-align: middle;\n",
       "    }\n",
       "\n",
       "    .dataframe tbody tr th {\n",
       "        vertical-align: top;\n",
       "    }\n",
       "\n",
       "    .dataframe thead th {\n",
       "        text-align: right;\n",
       "    }\n",
       "</style>\n",
       "<table border=\"1\" class=\"dataframe\">\n",
       "  <thead>\n",
       "    <tr style=\"text-align: right;\">\n",
       "      <th></th>\n",
       "      <th>US State</th>\n",
       "      <th>Average Percentage</th>\n",
       "    </tr>\n",
       "  </thead>\n",
       "  <tbody>\n",
       "    <tr>\n",
       "      <th>0</th>\n",
       "      <td>West Virginia</td>\n",
       "      <td>71.215385</td>\n",
       "    </tr>\n",
       "    <tr>\n",
       "      <th>1</th>\n",
       "      <td>Mississippi</td>\n",
       "      <td>71.115385</td>\n",
       "    </tr>\n",
       "    <tr>\n",
       "      <th>2</th>\n",
       "      <td>Louisiana</td>\n",
       "      <td>69.815385</td>\n",
       "    </tr>\n",
       "    <tr>\n",
       "      <th>3</th>\n",
       "      <td>Alabama</td>\n",
       "      <td>69.707692</td>\n",
       "    </tr>\n",
       "    <tr>\n",
       "      <th>4</th>\n",
       "      <td>Arkansas</td>\n",
       "      <td>69.507692</td>\n",
       "    </tr>\n",
       "  </tbody>\n",
       "</table>\n",
       "</div>"
      ],
      "text/plain": [
       "        US State  Average Percentage\n",
       "0  West Virginia           71.215385\n",
       "1    Mississippi           71.115385\n",
       "2      Louisiana           69.815385\n",
       "3        Alabama           69.707692\n",
       "4       Arkansas           69.507692"
      ]
     },
     "execution_count": 368,
     "metadata": {},
     "output_type": "execute_result"
    }
   ],
   "source": [
    "#Top 5 US States with the Highest Average Percentage of Obese or\n",
    "# Overweight People from 2011 to 2023\n",
    "\n",
    "r = db.aggregate([\n",
    "    \n",
    "    # Here we make sure that \"percent\" is a double:\n",
    "    {\"$addFields\": {\"percent\": {\"$toDouble\": \"$percent\"}}},  \n",
    "    \n",
    "    # We $match only for the questions we are interested in for the total sample\n",
    "    #for each US State survey\n",
    "    {\"$match\": {\"population_information.total\": \"Total\", \n",
    "                \"question\": {\"$in\": [\n",
    "                \"Percent of adults aged 18 years and older who have obesity\",\n",
    "                \"\"\"Percent of adults aged 18 years and older who have an overweight\n",
    "                classification\"\"\"]}}},\n",
    "    \n",
    "    #Here we calculate the average for each question per US State\n",
    "    {\"$group\": {\"_id\": {\"state\": \"$state\", \"question\": \"$question\"},\n",
    "        \"average_percent\": {\"$avg\": \"$percent\"}}},\n",
    "    \n",
    "    # Then we use conditional logic to get the average percentage \n",
    "    #of obese and overweight individuals\n",
    "    {\"$group\": {\n",
    "        \"_id\": \"$_id.state\",\n",
    "        \"obesity_avg\": {\n",
    "            \"$sum\": {\n",
    "                \"$cond\": {\n",
    "                    \"if\": {\"$eq\": [\"$_id.question\",\n",
    "                                   \"\"\"Percent of adults aged 18 years\n",
    "                                   and older who have obesity\"\"\"]},\n",
    "                    \"then\": \"$average_percent\",\n",
    "                    \"else\": 0  # Exclude values for non-matching question\n",
    "                }}},\n",
    "        \"overweight_avg\": {\n",
    "            \"$sum\": {\n",
    "                \"$cond\": {\n",
    "                    \"if\": {\"$eq\": [\"$_id.question\",\n",
    "                                   \"\"\"Percent of adults aged 18 years and older who\n",
    "                                   have an overweight classification\"\"\"]},\n",
    "                    \"then\": \"$average_percent\",\n",
    "                    \"else\": 0  # Exclude values for non-matching question\n",
    "                }}}}},\n",
    "    \n",
    "    # Add both averages to get the overall amount of overweight\n",
    "    #or obese people in each US State\n",
    "    {\"$project\": {\"_id\":0, \"US State\": \"$_id\",\n",
    "        \"Average Percentage\": {\"$add\": [\"$obesity_avg\", \"$overweight_avg\"]}}},\n",
    "    \n",
    "    # Sort the averages by descending order\n",
    "    {\"$sort\": {\"Average Percentage\": -1}},\n",
    "\n",
    "    #Return the top 5 States\n",
    "    {\"$limit\": 5}])\n",
    "\n",
    "pd.DataFrame(r)\n"
   ]
  },
  {
   "cell_type": "markdown",
   "id": "f434c31f-defb-4398-9b48-002e692a075c",
   "metadata": {},
   "source": [
    "In fact, 54 US States and overseas territories in the dataset have had on average more than half of their population as either overweight or obese from 2011 to 2023:"
   ]
  },
  {
   "cell_type": "code",
   "execution_count": 370,
   "id": "d810cd81-e5d9-436e-9e73-f7295652bfd7",
   "metadata": {},
   "outputs": [
    {
     "name": "stdout",
     "output_type": "stream",
     "text": [
      "There are 54 States or territories with over 50% of adults overweight or obese on average\n"
     ]
    }
   ],
   "source": [
    "# US States with more than half of their population as overweight or obese: \n",
    "\n",
    "r = db.aggregate([\n",
    "    \n",
    "    # Here we make sure that \"percent\" is a double:\n",
    "    {\"$addFields\": {\"percent\": {\"$toDouble\": \"$percent\"}}},  \n",
    "    \n",
    "    # We $match only for the questions we are interested in for the total sample\n",
    "    # for each US State total sample\n",
    "    {\"$match\": {\"population_information.total\": \"Total\", \n",
    "                \"question\": {\"$in\": [\n",
    "                \"Percent of adults aged 18 years and older who have obesity\",\n",
    "                \"\"\"Percent of adults aged 18 years and older who have an\n",
    "                overweight classification\"\"\"]}}},\n",
    "    \n",
    "    #Here we calculate the average for each question per US State\n",
    "    {\"$group\": {\"_id\": {\"state\": \"$state\", \"question\": \"$question\"},\n",
    "        \"average_percent\": {\"$avg\": \"$percent\"}}},\n",
    "    \n",
    "    # Then we use conditional logic to get the average percentage of obese\n",
    "    # and overweight individuals\n",
    "    {\"$group\": {\n",
    "        \"_id\": \"$_id.state\",\n",
    "        \"obesity_avg\": {\n",
    "            \"$sum\": {\n",
    "                \"$cond\": {\n",
    "                    \"if\": {\"$eq\": [\"$_id.question\", \n",
    "                                   \"\"\"Percent of adults aged 18 years\n",
    "                                   and older who have obesity\"\"\"]},\n",
    "                    \"then\": \"$average_percent\",\n",
    "                    \"else\": 0  # Exclude values for non-matching question\n",
    "                }}},\n",
    "        \"overweight_avg\": {\n",
    "            \"$sum\": {\n",
    "                \"$cond\": {\n",
    "                    \"if\": {\"$eq\": [\"$_id.question\", \n",
    "                                   \"\"\"Percent of adults aged 18 years and\n",
    "                                   older who have an overweight classification\"\"\"]},\n",
    "                    \"then\": \"$average_percent\",\n",
    "                    \"else\": 0  # Exclude values for non-matching question\n",
    "                }}}}},\n",
    "    \n",
    "    # Add both averages to get the overall amount of overweight or obese\n",
    "    # people in each US State\n",
    "    {\"$project\": {\"state\": \"$_id\",\n",
    "        \"combined_average\": {\"$add\": [\"$obesity_avg\", \"$overweight_avg\"]}}},\n",
    "    \n",
    "    # Match only States with more than 50% of the population as overweight\n",
    "    # or obese and count them. Exclude the National percentage.  \n",
    "    {\"$match\": {\"combined_average\" :{\"$gt\": 50.0}, \"state\":{\"$ne\":\"National\"}}},\n",
    "    {\"$count\": \"Amount\"},\n",
    "                \n",
    "    # Sort the averages by descending order\n",
    "    {\"$sort\": {\"combined_average\": -1}}\n",
    "\n",
    "])\n",
    "\n",
    "for i in r:\n",
    "    print(f\"\"\"There are {i[\"Amount\"]} States or territories with over 50% of adults\n",
    "    overweight or obese on average\"\"\")"
   ]
  },
  {
   "cell_type": "markdown",
   "id": "0c939f50-e847-4ca1-9b3a-8a6b4e3a0935",
   "metadata": {},
   "source": [
    "###  7.2. Are Certain Ethnicites More Likely to be Obese or Overweight? "
   ]
  },
  {
   "cell_type": "markdown",
   "id": "b03aa8d1-1b3e-4115-b08d-a56dc6842d17",
   "metadata": {},
   "source": [
    "We have 8 different ethnicities in the dataset:"
   ]
  },
  {
   "cell_type": "code",
   "execution_count": 372,
   "id": "3d971389-2e9f-4ad4-b8ee-2254e9768dc9",
   "metadata": {},
   "outputs": [
    {
     "data": {
      "text/plain": [
       "['2 or more races',\n",
       " 'American Indian/Alaska Native',\n",
       " 'Asian',\n",
       " 'Hawaiian/Pacific Islander',\n",
       " 'Hispanic',\n",
       " 'Non-Hispanic Black',\n",
       " 'Non-Hispanic White',\n",
       " 'Other']"
      ]
     },
     "execution_count": 372,
     "metadata": {},
     "output_type": "execute_result"
    }
   ],
   "source": [
    "# Ethnicities in the dataset\n",
    "\n",
    "db.distinct(\"population_information.stratification\",\n",
    "            {\"population_information.stratification_category\":\n",
    "             \"Race/Ethnicity\"})"
   ]
  },
  {
   "cell_type": "code",
   "execution_count": 381,
   "id": "495f9e4f-6105-4a77-8e36-6e7a9674997c",
   "metadata": {},
   "outputs": [
    {
     "data": {
      "text/html": [
       "<div>\n",
       "<style scoped>\n",
       "    .dataframe tbody tr th:only-of-type {\n",
       "        vertical-align: middle;\n",
       "    }\n",
       "\n",
       "    .dataframe tbody tr th {\n",
       "        vertical-align: top;\n",
       "    }\n",
       "\n",
       "    .dataframe thead th {\n",
       "        text-align: right;\n",
       "    }\n",
       "</style>\n",
       "<table border=\"1\" class=\"dataframe\">\n",
       "  <thead>\n",
       "    <tr style=\"text-align: right;\">\n",
       "      <th></th>\n",
       "      <th>Ethnicity</th>\n",
       "      <th>Average Percentage of Overweight or Obese Individuals</th>\n",
       "    </tr>\n",
       "  </thead>\n",
       "  <tbody>\n",
       "    <tr>\n",
       "      <th>0</th>\n",
       "      <td>Hawaiian/Pacific Islander</td>\n",
       "      <td>72.311765</td>\n",
       "    </tr>\n",
       "    <tr>\n",
       "      <th>1</th>\n",
       "      <td>Non-Hispanic Black</td>\n",
       "      <td>72.055654</td>\n",
       "    </tr>\n",
       "    <tr>\n",
       "      <th>2</th>\n",
       "      <td>American Indian/Alaska Native</td>\n",
       "      <td>70.346681</td>\n",
       "    </tr>\n",
       "    <tr>\n",
       "      <th>3</th>\n",
       "      <td>Hispanic</td>\n",
       "      <td>68.712206</td>\n",
       "    </tr>\n",
       "    <tr>\n",
       "      <th>4</th>\n",
       "      <td>2 or more races</td>\n",
       "      <td>64.646154</td>\n",
       "    </tr>\n",
       "    <tr>\n",
       "      <th>5</th>\n",
       "      <td>Non-Hispanic White</td>\n",
       "      <td>64.431633</td>\n",
       "    </tr>\n",
       "    <tr>\n",
       "      <th>6</th>\n",
       "      <td>Other</td>\n",
       "      <td>63.476712</td>\n",
       "    </tr>\n",
       "    <tr>\n",
       "      <th>7</th>\n",
       "      <td>Asian</td>\n",
       "      <td>42.782112</td>\n",
       "    </tr>\n",
       "  </tbody>\n",
       "</table>\n",
       "</div>"
      ],
      "text/plain": [
       "                       Ethnicity  \\\n",
       "0      Hawaiian/Pacific Islander   \n",
       "1             Non-Hispanic Black   \n",
       "2  American Indian/Alaska Native   \n",
       "3                       Hispanic   \n",
       "4                2 or more races   \n",
       "5             Non-Hispanic White   \n",
       "6                          Other   \n",
       "7                          Asian   \n",
       "\n",
       "   Average Percentage of Overweight or Obese Individuals  \n",
       "0                                              72.311765  \n",
       "1                                              72.055654  \n",
       "2                                              70.346681  \n",
       "3                                              68.712206  \n",
       "4                                              64.646154  \n",
       "5                                              64.431633  \n",
       "6                                              63.476712  \n",
       "7                                              42.782112  "
      ]
     },
     "execution_count": 381,
     "metadata": {},
     "output_type": "execute_result"
    }
   ],
   "source": [
    "# Percentage of individuals qualified as obese or overweight by ethnicity\n",
    "\n",
    "r = db.aggregate([\n",
    "    \n",
    "    # Here we make sure that \"percent\" is a double:\n",
    "    {\"$addFields\": {\"percent\": {\"$toDouble\": \"$percent\"}}},  \n",
    "    \n",
    "    # We $match only for the questions we are interested in for the population\n",
    "    # and for ethnicities\n",
    "    {\"$match\": {\"population_information.stratification_category\": \"Race/Ethnicity\", \n",
    "                \"question\": {\"$in\": [\n",
    "                \"Percent of adults aged 18 years and older who have obesity\",\n",
    "                \"\"\"Percent of adults aged 18 years and older who have an\n",
    "                overweight classification\"\"\"]}}},\n",
    "\n",
    "    # We calculate the average for each ethnicity group: \n",
    "    {\"$group\": {\"_id\": {\"ethnicity\": \"$population_information.stratification\",\n",
    "                        \"question\":\"$question\"},\n",
    "        \"average_percent\": {\"$avg\": \"$percent\"}}},\n",
    "\n",
    "    # Then we use conditional logic to get the average percentage\n",
    "    # of obese and overweight individuals\n",
    "    {\"$group\": {\n",
    "        \"_id\": \"$_id.ethnicity\",\n",
    "        \"obesity_avg\": {\n",
    "            \"$sum\": {\n",
    "                \"$cond\": {\n",
    "                    \"if\": {\"$eq\": [\"$_id.question\", \"\"\"Percent of adults aged 18 years \n",
    "                    and older who have obesity\"\"\"]},\n",
    "                    \"then\": \"$average_percent\",\n",
    "                    \"else\": 0  # Exclude values for non-matching question\n",
    "                }}},\n",
    "        \"overweight_avg\": {\n",
    "            \"$sum\": {\n",
    "                \"$cond\": {\n",
    "                    \"if\": {\"$eq\": [\"$_id.question\",\n",
    "                                   \"\"\"Percent of adults aged 18 years and older\n",
    "                                   who have an overweight classification\"\"\"]},\n",
    "                    \"then\": \"$average_percent\",\n",
    "                    \"else\": 0  # Exclude values for non-matching question\n",
    "                }}}}},\n",
    "\n",
    "     # Add both averages to get the overall amount of overweight or obese people\n",
    "    # for each ethnicity\n",
    "    {\"$project\": {\"_id\":0, \"Ethnicity\":\"$_id\",\n",
    "                  \"Average Percentage of Overweight or Obese Individuals\": \n",
    "                  {\"$add\": [\"$obesity_avg\", \"$overweight_avg\"]}}},\n",
    "\n",
    "    # Sort the averages by descending order\n",
    "    {\"$sort\": {\"Average Percentage of Overweight or Obese Individuals\": -1}}\n",
    "\n",
    "])\n",
    "pd.DataFrame(r)"
   ]
  },
  {
   "cell_type": "markdown",
   "id": "2c288ab6-e031-4666-821d-2dd076ad93af",
   "metadata": {},
   "source": [
    "We can see that people with a Pacific Islander racial background are the most likely to be overweight or obese among various ethnicities in the United States. On the other hand, people of Asian descent are the least likely to be overweight or obese."
   ]
  },
  {
   "cell_type": "code",
   "execution_count": null,
   "id": "7658a6c1",
   "metadata": {},
   "outputs": [],
   "source": [
    "\n",
    "\n",
    "\n",
    "\n",
    "\n",
    "\n",
    "\n",
    "\n",
    "\n",
    "\n",
    "\n",
    "\n",
    "\n",
    "\n",
    "\n",
    "\n",
    "\n",
    "\n",
    "\n",
    "\n",
    "\n",
    "\n",
    "\n",
    "\n",
    "\n",
    "\n",
    "\n",
    "\n"
   ]
  },
  {
   "cell_type": "markdown",
   "id": "a46b9be6-b673-4340-aa5a-6986a295fa96",
   "metadata": {},
   "source": [
    "###  7.3. Is a Lower Income Associated with Higher Rates of Adults being Overweight or Obese?"
   ]
  },
  {
   "cell_type": "code",
   "execution_count": 379,
   "id": "4f96ad4c-f044-4d4b-96b3-92cadad15c36",
   "metadata": {},
   "outputs": [
    {
     "data": {
      "text/plain": [
       "['$15,000 - $24,999',\n",
       " '$25,000 - $34,999',\n",
       " '$35,000 - $49,999',\n",
       " '$50,000 - $74,999',\n",
       " '$75,000 or greater',\n",
       " 'Data not reported',\n",
       " 'Less than $15,000']"
      ]
     },
     "execution_count": 379,
     "metadata": {},
     "output_type": "execute_result"
    }
   ],
   "source": [
    "#These are the different income levels in the dataset\n",
    "\n",
    "db.distinct(\"population_information.stratification\",\n",
    "            {\"population_information.stratification_category\":\n",
    "             \"Income\"})"
   ]
  },
  {
   "cell_type": "code",
   "execution_count": 383,
   "id": "5f68f84e-5d06-41fb-a887-96e2054d1509",
   "metadata": {},
   "outputs": [
    {
     "data": {
      "text/html": [
       "<div>\n",
       "<style scoped>\n",
       "    .dataframe tbody tr th:only-of-type {\n",
       "        vertical-align: middle;\n",
       "    }\n",
       "\n",
       "    .dataframe tbody tr th {\n",
       "        vertical-align: top;\n",
       "    }\n",
       "\n",
       "    .dataframe thead th {\n",
       "        text-align: right;\n",
       "    }\n",
       "</style>\n",
       "<table border=\"1\" class=\"dataframe\">\n",
       "  <thead>\n",
       "    <tr style=\"text-align: right;\">\n",
       "      <th></th>\n",
       "      <th>Income Level</th>\n",
       "      <th>Average Percentage of Overweight or Obese Individuals</th>\n",
       "    </tr>\n",
       "  </thead>\n",
       "  <tbody>\n",
       "    <tr>\n",
       "      <th>0</th>\n",
       "      <td>$50,000 - $74,999</td>\n",
       "      <td>68.751437</td>\n",
       "    </tr>\n",
       "    <tr>\n",
       "      <th>1</th>\n",
       "      <td>$35,000 - $49,999</td>\n",
       "      <td>68.207461</td>\n",
       "    </tr>\n",
       "    <tr>\n",
       "      <th>2</th>\n",
       "      <td>$25,000 - $34,999</td>\n",
       "      <td>67.289957</td>\n",
       "    </tr>\n",
       "    <tr>\n",
       "      <th>3</th>\n",
       "      <td>$15,000 - $24,999</td>\n",
       "      <td>66.814921</td>\n",
       "    </tr>\n",
       "    <tr>\n",
       "      <th>4</th>\n",
       "      <td>$75,000 or greater</td>\n",
       "      <td>66.275179</td>\n",
       "    </tr>\n",
       "    <tr>\n",
       "      <th>5</th>\n",
       "      <td>Less than $15,000</td>\n",
       "      <td>65.124103</td>\n",
       "    </tr>\n",
       "  </tbody>\n",
       "</table>\n",
       "</div>"
      ],
      "text/plain": [
       "         Income Level  Average Percentage of Overweight or Obese Individuals\n",
       "0   $50,000 - $74,999                                              68.751437\n",
       "1   $35,000 - $49,999                                              68.207461\n",
       "2   $25,000 - $34,999                                              67.289957\n",
       "3   $15,000 - $24,999                                              66.814921\n",
       "4  $75,000 or greater                                              66.275179\n",
       "5   Less than $15,000                                              65.124103"
      ]
     },
     "execution_count": 383,
     "metadata": {},
     "output_type": "execute_result"
    }
   ],
   "source": [
    "# Rates of overweight / obese individuals per income level\n",
    "\n",
    "r = db.aggregate([\n",
    "    \n",
    "    # Here we make sure that \"percent\" is a double:\n",
    "    {\"$addFields\": {\"percent\": {\"$toDouble\": \"$percent\"}}},  \n",
    "    \n",
    "    # We $match only for the questions we are interested in for the population and income \n",
    "    {\"$match\": {\"population_information.stratification_category\": \"Income\", \n",
    "                \"question\": {\"$in\": [\n",
    "                \"Percent of adults aged 18 years and older who have obesity\",\n",
    "                \"\"\"Percent of adults aged 18 years and older who have\n",
    "                an overweight classification\"\"\"]}}},\n",
    "\n",
    "    #We calculate the average for each income group: \n",
    "    {\"$group\": {\"_id\": {\"income\": \"$population_information.stratification\",\n",
    "                        \"question\":\"$question\"},\n",
    "        \"average_percent\": {\"$avg\": \"$percent\"}}},\n",
    "\n",
    "    # Then we use conditional logic to get the average percentage of obese and\n",
    "    # overweight individuals\n",
    "    {\"$group\": {\n",
    "        \"_id\": \"$_id.income\",\n",
    "        \"obesity_avg\": {\n",
    "            \"$sum\": {\n",
    "                \"$cond\": {\n",
    "                    \"if\": {\"$eq\": [\"$_id.question\", \"\"\"Percent of adults aged 18 years\n",
    "                    and older who have obesity\"\"\"]},\n",
    "                    \"then\": \"$average_percent\",\n",
    "                    \"else\": 0  # Exclude values for non-matching question\n",
    "                }}},\n",
    "        \"overweight_avg\": {\n",
    "            \"$sum\": {\n",
    "                \"$cond\": {\n",
    "                    \"if\": {\"$eq\": [\"$_id.question\",\n",
    "                                   \"\"\"Percent of adults aged 18 years\n",
    "                                   and older who have an overweight classification\"\"\"]},\n",
    "                    \"then\": \"$average_percent\",\n",
    "                    \"else\": 0  # Exclude values for non-matching question\n",
    "                }}}}},\n",
    "    \n",
    "\n",
    "     # Add both averages to get the overall amount of overweight\n",
    "    # or obese people for each income level\n",
    "    {\"$project\": {\"_id\":0, \"Income Level\":\"$_id\",\n",
    "                  \"Average Percentage of Overweight or Obese Individuals\":\n",
    "                  {\"$add\": [\"$obesity_avg\", \"$overweight_avg\"]}}},\n",
    "\n",
    "    # We exclude the population for which the income level was not reported\n",
    "    {\"$match\": {\"Income Level\":{\"$ne\":\"Data not reported\"}}},\n",
    "    \n",
    "    # Sort the averages by descending order\n",
    "    {\"$sort\": {\"Average Percentage of Overweight or Obese Individuals\": -1}}\n",
    "\n",
    "])\n",
    "pd.DataFrame(r)"
   ]
  },
  {
   "cell_type": "markdown",
   "id": "dbbd32ea-6d91-475e-b718-ee2fbd1bcc10",
   "metadata": {},
   "source": [
    "Income level does not appear to impact the rate of overweight or obese people, since the highest and lowest income brackets have similar average rates overall."
   ]
  },
  {
   "cell_type": "markdown",
   "id": "19251a94-da12-48c1-877a-1fdd2525d114",
   "metadata": {},
   "source": [
    "###  7.4. Has There Been a Decline or Increase in Obesity from 2011 to 2023?"
   ]
  },
  {
   "cell_type": "markdown",
   "id": "18d5347f-f99f-4b1c-b607-73bfa380f0a6",
   "metadata": {},
   "source": [
    "So far, we have only considered total averages over 12 years of surveys. Now we would like to consider how obesity might have changed over time. "
   ]
  },
  {
   "cell_type": "code",
   "execution_count": 81,
   "id": "3012109b-d371-4dd9-afb3-f2292935ff71",
   "metadata": {},
   "outputs": [
    {
     "data": {
      "text/html": [
       "<div>\n",
       "<style scoped>\n",
       "    .dataframe tbody tr th:only-of-type {\n",
       "        vertical-align: middle;\n",
       "    }\n",
       "\n",
       "    .dataframe tbody tr th {\n",
       "        vertical-align: top;\n",
       "    }\n",
       "\n",
       "    .dataframe thead th {\n",
       "        text-align: right;\n",
       "    }\n",
       "</style>\n",
       "<table border=\"1\" class=\"dataframe\">\n",
       "  <thead>\n",
       "    <tr style=\"text-align: right;\">\n",
       "      <th></th>\n",
       "      <th>Year</th>\n",
       "      <th>Percentage of Obese Individuals in the US</th>\n",
       "    </tr>\n",
       "  </thead>\n",
       "  <tbody>\n",
       "    <tr>\n",
       "      <th>0</th>\n",
       "      <td>2011</td>\n",
       "      <td>27.4</td>\n",
       "    </tr>\n",
       "    <tr>\n",
       "      <th>1</th>\n",
       "      <td>2012</td>\n",
       "      <td>27.7</td>\n",
       "    </tr>\n",
       "    <tr>\n",
       "      <th>2</th>\n",
       "      <td>2013</td>\n",
       "      <td>28.3</td>\n",
       "    </tr>\n",
       "    <tr>\n",
       "      <th>3</th>\n",
       "      <td>2014</td>\n",
       "      <td>28.9</td>\n",
       "    </tr>\n",
       "    <tr>\n",
       "      <th>4</th>\n",
       "      <td>2015</td>\n",
       "      <td>28.9</td>\n",
       "    </tr>\n",
       "    <tr>\n",
       "      <th>5</th>\n",
       "      <td>2016</td>\n",
       "      <td>29.6</td>\n",
       "    </tr>\n",
       "    <tr>\n",
       "      <th>6</th>\n",
       "      <td>2017</td>\n",
       "      <td>30.1</td>\n",
       "    </tr>\n",
       "    <tr>\n",
       "      <th>7</th>\n",
       "      <td>2018</td>\n",
       "      <td>30.9</td>\n",
       "    </tr>\n",
       "    <tr>\n",
       "      <th>8</th>\n",
       "      <td>2019</td>\n",
       "      <td>31.4</td>\n",
       "    </tr>\n",
       "    <tr>\n",
       "      <th>9</th>\n",
       "      <td>2020</td>\n",
       "      <td>31.9</td>\n",
       "    </tr>\n",
       "    <tr>\n",
       "      <th>10</th>\n",
       "      <td>2021</td>\n",
       "      <td>33.0</td>\n",
       "    </tr>\n",
       "    <tr>\n",
       "      <th>11</th>\n",
       "      <td>2022</td>\n",
       "      <td>33.3</td>\n",
       "    </tr>\n",
       "    <tr>\n",
       "      <th>12</th>\n",
       "      <td>2023</td>\n",
       "      <td>32.8</td>\n",
       "    </tr>\n",
       "  </tbody>\n",
       "</table>\n",
       "</div>"
      ],
      "text/plain": [
       "    Year  Percentage of Obese Individuals in the US\n",
       "0   2011                                       27.4\n",
       "1   2012                                       27.7\n",
       "2   2013                                       28.3\n",
       "3   2014                                       28.9\n",
       "4   2015                                       28.9\n",
       "5   2016                                       29.6\n",
       "6   2017                                       30.1\n",
       "7   2018                                       30.9\n",
       "8   2019                                       31.4\n",
       "9   2020                                       31.9\n",
       "10  2021                                       33.0\n",
       "11  2022                                       33.3\n",
       "12  2023                                       32.8"
      ]
     },
     "execution_count": 81,
     "metadata": {},
     "output_type": "execute_result"
    }
   ],
   "source": [
    "# National Rates of Obesity over 12 years\n",
    "\n",
    "r = db.aggregate([\n",
    "    \n",
    "    # Here we make sure that \"percent\" is a double:\n",
    "    {\"$addFields\": {\"percent\": {\"$toDouble\": \"$percent\"}}},\n",
    "    \n",
    "    # We $match only for the questions we are interested in with\n",
    "    #overall percentage for national rates only\n",
    "    {\"$match\": {\"population_information.total\": \"Total\", \n",
    "                \"question\": \"Percent of adults aged 18 years and older who have obesity\",\n",
    "                \"state\": \"National\"}},\n",
    "    \n",
    "     # We project the national percentages over the years\n",
    "    {\"$project\": {\"_id\":0, \"Year\":\"$year\", \"Percentage of Obese Individuals in the US\":\n",
    "                  \"$percent\"}},\n",
    "    \n",
    "    # Sort the averages by descending order\n",
    "    {\"$sort\": {\"Year\": 1}}\n",
    "\n",
    "])\n",
    "table = pd.DataFrame(r)\n",
    "table"
   ]
  },
  {
   "cell_type": "code",
   "execution_count": 88,
   "id": "f4f51388-2efe-4603-8f9f-20d9b2a32966",
   "metadata": {
    "hidden": true
   },
   "outputs": [
    {
     "data": {
      "text/plain": [
       "<Figure size 600x400 with 0 Axes>"
      ]
     },
     "metadata": {},
     "output_type": "display_data"
    },
    {
     "data": {
      "image/png": "[encoded data removed]",
      "text/plain": [
       "<Figure size 640x480 with 1 Axes>"
      ]
     },
     "metadata": {},
     "output_type": "display_data"
    }
   ],
   "source": [
    "plt.figure(figsize=(6, 4))\n",
    "table.plot.line(x=\"Year\", y=\"Percentage of Obese Individuals in the US\",\n",
    "                xlabel=\"Year\", ylabel=\"Percentage (%)\", \n",
    "                title = \"Percentage of Obese Adults in the USA (2011-2023)\", legend=False);"
   ]
  },
  {
   "cell_type": "markdown",
   "id": "da23eb10-0b64-4936-bcc6-a8643f7d62f6",
   "metadata": {},
   "source": [
    "We can see that the national rate of obesity has increased by around 5% from 2011 to 2023, with a slight decrease from 2022 to 2023. \n",
    "\n",
    "If we now look at how this rate has evolved between 2011 and 2023 in each US State, we see that 48 States had a positive increase in obesity rates, with Arkansas having the sharpest increase at 9.1%:"
   ]
  },
  {
   "cell_type": "code",
   "execution_count": 467,
   "id": "08fafb39-423b-4226-89ab-27390f676555",
   "metadata": {},
   "outputs": [
    {
     "name": "stdout",
     "output_type": "stream",
     "text": [
      "There are 48 US States with increasing rates of obesity\n",
      "\n",
      "These are the US States with the sharpest increases in obesity:\n"
     ]
    },
    {
     "data": {
      "text/html": [
       "<div>\n",
       "<style scoped>\n",
       "    .dataframe tbody tr th:only-of-type {\n",
       "        vertical-align: middle;\n",
       "    }\n",
       "\n",
       "    .dataframe tbody tr th {\n",
       "        vertical-align: top;\n",
       "    }\n",
       "\n",
       "    .dataframe thead th {\n",
       "        text-align: right;\n",
       "    }\n",
       "</style>\n",
       "<table border=\"1\" class=\"dataframe\">\n",
       "  <thead>\n",
       "    <tr style=\"text-align: right;\">\n",
       "      <th></th>\n",
       "      <th>State</th>\n",
       "      <th>Percentage Variation</th>\n",
       "    </tr>\n",
       "  </thead>\n",
       "  <tbody>\n",
       "    <tr>\n",
       "      <th>0</th>\n",
       "      <td>Arkansas</td>\n",
       "      <td>9.1</td>\n",
       "    </tr>\n",
       "    <tr>\n",
       "      <th>1</th>\n",
       "      <td>New Mexico</td>\n",
       "      <td>9.0</td>\n",
       "    </tr>\n",
       "    <tr>\n",
       "      <th>2</th>\n",
       "      <td>Illinois</td>\n",
       "      <td>8.9</td>\n",
       "    </tr>\n",
       "    <tr>\n",
       "      <th>3</th>\n",
       "      <td>West Virginia</td>\n",
       "      <td>8.8</td>\n",
       "    </tr>\n",
       "    <tr>\n",
       "      <th>4</th>\n",
       "      <td>Iowa</td>\n",
       "      <td>8.8</td>\n",
       "    </tr>\n",
       "  </tbody>\n",
       "</table>\n",
       "</div>"
      ],
      "text/plain": [
       "           State  Percentage Variation\n",
       "0       Arkansas                   9.1\n",
       "1     New Mexico                   9.0\n",
       "2       Illinois                   8.9\n",
       "3  West Virginia                   8.8\n",
       "4           Iowa                   8.8"
      ]
     },
     "execution_count": 467,
     "metadata": {},
     "output_type": "execute_result"
    }
   ],
   "source": [
    "# US States' and Territories' Rates of Obesity between 2011 and 2023\n",
    "\n",
    "r = db.aggregate([\n",
    "    \n",
    "    # Here we make sure that \"percent\" is a double and \"year\" is an integer:\n",
    "    {\"$addFields\": {\"percent\": {\"$toDouble\": \"$percent\"}, \"year\": {\"$toInt\": \"$year\"}}},\n",
    "    \n",
    "    # Match for the specific criteria we want with total percentage,\n",
    "    # years and the question we want\n",
    "    {\"$match\": {\"population_information.total\": \"Total\", \n",
    "                \"question\": \"Percent of adults aged 18 years and older who have obesity\",\n",
    "                \"year\": {\"$in\": [2011, 2023]}}},\n",
    "    \n",
    "    # Group by state and year and collect the percentages\n",
    "    {\"$group\": {\"_id\": {\"state\": \"$state\", \"year\": \"$year\"},\n",
    "                \"percentage\": {\"$first\":\"$percent\"}}},\n",
    "    \n",
    "    # Have separate fields for 2011 and 2023 percentages\n",
    "    {\"$group\": {\"_id\": \"$_id.state\",\n",
    "                \"percent_2011\": {\"$max\": {\"$cond\": [{\"$eq\": [\"$_id.year\", 2011]},\n",
    "                                                    \"$percentage\", None]}},\n",
    "                \"percent_2023\": {\"$max\": {\"$cond\": [{\"$eq\": [\"$_id.year\", 2023]},\n",
    "                                                    \"$percentage\", None]}}}},\n",
    "\n",
    "    # Calculate the variation in obesity percentage between 2011 and 2023\n",
    "    {\"$project\": {\"_id\":0, \"State\":\"$_id\", \"Percentage Variation\":\n",
    "                  {\"$subtract\": [\"$percent_2023\", \"$percent_2011\"]}}},\n",
    "\n",
    "    # Select only states with an increasing obesity rate and exclude \"National\"\n",
    "    {\"$match\": {\"Percentage Variation\": {\"$gte\": 0.0}, \"State\": {\"$ne\": \"National\"}}},\n",
    "    \n",
    "    # Sort by state name or variation as needed\n",
    "    {\"$sort\": {\"Percentage Variation\": -1}}\n",
    "])\n",
    "\n",
    "df = pd.DataFrame(r)\n",
    "l = len(df)\n",
    "print(f\"There are {l} US States with increasing rates of obesity\")\n",
    "print(\"\\nThese are the US States with the sharpest increases in obesity:\")\n",
    "df.head(5)"
   ]
  },
  {
   "cell_type": "markdown",
   "id": "c7b544e9-7a0a-4922-a5d6-bd5dd9784f94",
   "metadata": {},
   "source": [
    "### 7.5. Which State Has the Lowest Percentage of Adults Consuming Vegetables or Fruits at Least Once per Day?"
   ]
  },
  {
   "cell_type": "markdown",
   "id": "04c52d98-4034-481d-b97f-cbc8392bf854",
   "metadata": {},
   "source": [
    "In this next section, we will look at possible causes of obesity in the Amercian population, starting with nutrition. Improper nutrition is the prime factor contributing to excessive weight gain, so let's see which State has the lowest consumption of healthy food:"
   ]
  },
  {
   "cell_type": "code",
   "execution_count": 487,
   "id": "31716038-3b0d-4726-9907-9f40f073f777",
   "metadata": {},
   "outputs": [
    {
     "data": {
      "text/html": [
       "<div>\n",
       "<style scoped>\n",
       "    .dataframe tbody tr th:only-of-type {\n",
       "        vertical-align: middle;\n",
       "    }\n",
       "\n",
       "    .dataframe tbody tr th {\n",
       "        vertical-align: top;\n",
       "    }\n",
       "\n",
       "    .dataframe thead th {\n",
       "        text-align: right;\n",
       "    }\n",
       "</style>\n",
       "<table border=\"1\" class=\"dataframe\">\n",
       "  <thead>\n",
       "    <tr style=\"text-align: right;\">\n",
       "      <th></th>\n",
       "      <th>State</th>\n",
       "      <th>Percentage of Persons not Eating Healthy Food</th>\n",
       "      <th>Percentage of Obese Individuals</th>\n",
       "    </tr>\n",
       "  </thead>\n",
       "  <tbody>\n",
       "    <tr>\n",
       "      <th>0</th>\n",
       "      <td>Puerto Rico</td>\n",
       "      <td>99.133333</td>\n",
       "      <td>32.018182</td>\n",
       "    </tr>\n",
       "    <tr>\n",
       "      <th>1</th>\n",
       "      <td>Guam</td>\n",
       "      <td>72.966667</td>\n",
       "      <td>32.160000</td>\n",
       "    </tr>\n",
       "    <tr>\n",
       "      <th>2</th>\n",
       "      <td>Louisiana</td>\n",
       "      <td>72.000000</td>\n",
       "      <td>36.415385</td>\n",
       "    </tr>\n",
       "    <tr>\n",
       "      <th>3</th>\n",
       "      <td>Virgin Islands</td>\n",
       "      <td>71.900000</td>\n",
       "      <td>33.075000</td>\n",
       "    </tr>\n",
       "    <tr>\n",
       "      <th>4</th>\n",
       "      <td>Mississippi</td>\n",
       "      <td>69.400000</td>\n",
       "      <td>37.615385</td>\n",
       "    </tr>\n",
       "  </tbody>\n",
       "</table>\n",
       "</div>"
      ],
      "text/plain": [
       "            State  Percentage of Persons not Eating Healthy Food  \\\n",
       "0     Puerto Rico                                      99.133333   \n",
       "1            Guam                                      72.966667   \n",
       "2       Louisiana                                      72.000000   \n",
       "3  Virgin Islands                                      71.900000   \n",
       "4     Mississippi                                      69.400000   \n",
       "\n",
       "   Percentage of Obese Individuals  \n",
       "0                        32.018182  \n",
       "1                        32.160000  \n",
       "2                        36.415385  \n",
       "3                        33.075000  \n",
       "4                        37.615385  "
      ]
     },
     "execution_count": 487,
     "metadata": {},
     "output_type": "execute_result"
    }
   ],
   "source": [
    " r = db.aggregate([\n",
    "     # Ensure \"percent\" is a double for calculations\n",
    "     {\"$addFields\": {\"percent\": {\"$toDouble\": \"$percent\"}}},\n",
    "     \n",
    "     # Match for only national data for fruit and vegetable consumption questions\n",
    "     {\"$match\": {\"population_information.total\": \"Total\", \n",
    "                \"question\": {\"$in\": [\n",
    "                    \"Percent of adults who report consuming fruit less than one time daily\", \n",
    "                    \"\"\"Percent of adults who report consuming vegetables\n",
    "                    less than one time daily\"\"\",\n",
    "                    \"Percent of adults aged 18 years and older who have obesity\"\n",
    "                ]}}},\n",
    "    \n",
    "    # Group by year and question type to calculate the average percentage for each\n",
    "     # question per year\n",
    "    {\"$group\": {\"_id\": {\"state\": \"$state\", \"question\": \"$question\"},\n",
    "                \"average_percent\": {\"$avg\": \"$percent\"}}},\n",
    "    \n",
    "    # Then we use conditional logic to get the average percentage for fruits,\n",
    "     # for vegetables and for obesity\n",
    "    {\"$group\": {\n",
    "        \"_id\": \"$_id.state\",\n",
    "        \"vegetables_avg\": {\n",
    "            \"$sum\": {\n",
    "                \"$cond\": {\n",
    "                    \"if\": {\"$eq\": [\"$_id.question\",\n",
    "                                   \"\"\"Percent of adults who report consuming vegetables\n",
    "                                   less than one time daily\"\"\"]},\n",
    "                    \"then\": \"$average_percent\",\n",
    "                    \"else\": 0  # Exclude values for non-matching question\n",
    "                }}},\n",
    "        \"fruits_avg\": {\n",
    "            \"$sum\": {\n",
    "                \"$cond\": {\n",
    "                    \"if\": {\"$eq\": [\"$_id.question\",\n",
    "                                   \"\"\"Percent of adults who report consuming\n",
    "                                   fruit less than one time daily\"\"\"]},\n",
    "                    \"then\": \"$average_percent\",\n",
    "                    \"else\": 0  # Exclude values for non-matching question\n",
    "                }}},\n",
    "        \"obesity_avg\": {\n",
    "            \"$sum\": {\n",
    "                \"$cond\": {\n",
    "                    \"if\": {\"$eq\": [\"$_id.question\", \"\"\"Percent of adults aged 18 years \n",
    "                    and older who have obesity\"\"\"]},\n",
    "                    \"then\": \"$average_percent\",\n",
    "                    \"else\": 0\n",
    "                }}}}},\n",
    "    \n",
    "        # Add averages to get the overall average consumption of healthy\n",
    "        #food per US State and a separate average for obesity\n",
    "        {\"$project\": {\"_id\":0, \"State\": \"$_id\",\n",
    "        \"Percentage of Persons not Eating Healthy Food\":\n",
    "                      {\"$add\": [\"$fruits_avg\", \"$vegetables_avg\"]},\n",
    "                      \"Percentage of Obese Individuals\": \"$obesity_avg\"}},\n",
    "    \n",
    "        # Exclude the National percentage.  \n",
    "        {\"$match\": {\"state\":{\"$ne\":\"National\"}}},\n",
    "                \n",
    "        # Sort the averages by descending order\n",
    "        {\"$sort\": {\"Percentage of Persons not Eating Healthy Food\": -1}}, \n",
    "\n",
    "        #limit to 5 results\n",
    "        {\"$limit\":5}\n",
    " ])\n",
    "df = pd.DataFrame(r)\n",
    "df"
   ]
  },
  {
   "cell_type": "markdown",
   "id": "b9fc1624-b2cb-4dfa-a00f-1262b3730588",
   "metadata": {},
   "source": [
    "It seems that although nutrition is a major factor contributing to an unhealthy weight, we can see here that it is not necessarily correlated to the daily consumption of vegetables or fruit. From the States with the most amount of overweight adults, we only find Louisiana and Mississippi in the above list. Also, even though Mississipi residents eat more fruits and vegetables than Puerto Ricans, their obesity rate is higher than theirs by 4%. "
   ]
  },
  {
   "cell_type": "markdown",
   "id": "e388b12d-b828-4405-b706-234d44d938d0",
   "metadata": {},
   "source": [
    "###  7.6. What Percentage of Americans Regularily Exercise?"
   ]
  },
  {
   "cell_type": "markdown",
   "id": "e6b0a9e4-5005-4a78-be7a-8defd4a07204",
   "metadata": {},
   "source": [
    "We would now like to look into the percentage of Americans who tend to exercise. We can see that there are 5 different options to choose from for exercise. There could be significant overlaps between them and we do not know how the survey was conducted: Was each person asked to choose the most relevant answer or did they select all that applied to them? \n",
    "\n",
    "As a consequence, we select \"Percent of adults who engage in no leisure-time physical activity\" and subtract it from 100 to know the percentage of people engaging in physical activity of some kind.\n",
    "\n",
    "We are also interested in knowing how physical activity evolves with age along with the percentage of obesity in the population."
   ]
  },
  {
   "cell_type": "code",
   "execution_count": 574,
   "id": "2490fd27-cec1-4ca0-a69e-ba47bf960a42",
   "metadata": {},
   "outputs": [
    {
     "data": {
      "text/plain": [
       "['Percent of adults who achieve at least 150 minutes a week of moderate-intensity aerobic physical activity or 75 minutes a week of vigorous-intensity aerobic activity (or an equivalent combination)',\n",
       " 'Percent of adults who achieve at least 150 minutes a week of moderate-intensity aerobic physical activity or 75 minutes a week of vigorous-intensity aerobic physical activity and engage in muscle-strengthening activities on 2 or more days a week',\n",
       " 'Percent of adults who achieve at least 300 minutes a week of moderate-intensity aerobic physical activity or 150 minutes a week of vigorous-intensity aerobic activity (or an equivalent combination)',\n",
       " 'Percent of adults who engage in muscle-strengthening activities on 2 or more days a week',\n",
       " 'Percent of adults who engage in no leisure-time physical activity']"
      ]
     },
     "execution_count": 574,
     "metadata": {},
     "output_type": "execute_result"
    }
   ],
   "source": [
    "# Questions related to physical activity\n",
    "db.distinct(\"question\", {\"topic_of_question\":\"Physical Activity - Behavior\"})"
   ]
  },
  {
   "cell_type": "code",
   "execution_count": 641,
   "id": "9d2d8327-4d96-4d98-9fd2-96cc27d86e69",
   "metadata": {},
   "outputs": [
    {
     "data": {
      "text/plain": [
       "['18 - 24', '25 - 34', '35 - 44', '45 - 54', '55 - 64', '65 or older']"
      ]
     },
     "execution_count": 641,
     "metadata": {},
     "output_type": "execute_result"
    }
   ],
   "source": [
    "# These are the age ranges we will consider\n",
    "db.distinct(\"population_information.stratification\",\n",
    "            {\"population_information.stratification_category\":\n",
    "             \"Age (years)\"})"
   ]
  },
  {
   "cell_type": "code",
   "execution_count": 644,
   "id": "70f28be9-6e9a-4c9e-8629-fe5fe770d5e0",
   "metadata": {},
   "outputs": [
    {
     "data": {
      "text/html": [
       "<div>\n",
       "<style scoped>\n",
       "    .dataframe tbody tr th:only-of-type {\n",
       "        vertical-align: middle;\n",
       "    }\n",
       "\n",
       "    .dataframe tbody tr th {\n",
       "        vertical-align: top;\n",
       "    }\n",
       "\n",
       "    .dataframe thead th {\n",
       "        text-align: right;\n",
       "    }\n",
       "</style>\n",
       "<table border=\"1\" class=\"dataframe\">\n",
       "  <thead>\n",
       "    <tr style=\"text-align: right;\">\n",
       "      <th></th>\n",
       "      <th>Age</th>\n",
       "      <th>Percentage of Obesity</th>\n",
       "      <th>Percentage of Individuals Exercising</th>\n",
       "      <th>Percentage of Individuals Vigorously Exercising</th>\n",
       "    </tr>\n",
       "  </thead>\n",
       "  <tbody>\n",
       "    <tr>\n",
       "      <th>0</th>\n",
       "      <td>18 - 24</td>\n",
       "      <td>17.630769</td>\n",
       "      <td>82.892308</td>\n",
       "      <td>54.833333</td>\n",
       "    </tr>\n",
       "    <tr>\n",
       "      <th>1</th>\n",
       "      <td>25 - 34</td>\n",
       "      <td>28.707692</td>\n",
       "      <td>79.600000</td>\n",
       "      <td>50.666667</td>\n",
       "    </tr>\n",
       "    <tr>\n",
       "      <th>2</th>\n",
       "      <td>35 - 44</td>\n",
       "      <td>33.684615</td>\n",
       "      <td>77.300000</td>\n",
       "      <td>50.933333</td>\n",
       "    </tr>\n",
       "    <tr>\n",
       "      <th>3</th>\n",
       "      <td>45 - 54</td>\n",
       "      <td>36.000000</td>\n",
       "      <td>74.630769</td>\n",
       "      <td>51.150000</td>\n",
       "    </tr>\n",
       "    <tr>\n",
       "      <th>4</th>\n",
       "      <td>55 - 64</td>\n",
       "      <td>35.215385</td>\n",
       "      <td>72.453846</td>\n",
       "      <td>52.366667</td>\n",
       "    </tr>\n",
       "    <tr>\n",
       "      <th>5</th>\n",
       "      <td>65 or older</td>\n",
       "      <td>28.230769</td>\n",
       "      <td>68.361538</td>\n",
       "      <td>54.666667</td>\n",
       "    </tr>\n",
       "  </tbody>\n",
       "</table>\n",
       "</div>"
      ],
      "text/plain": [
       "           Age  Percentage of Obesity  Percentage of Individuals Exercising  \\\n",
       "0      18 - 24              17.630769                             82.892308   \n",
       "1      25 - 34              28.707692                             79.600000   \n",
       "2      35 - 44              33.684615                             77.300000   \n",
       "3      45 - 54              36.000000                             74.630769   \n",
       "4      55 - 64              35.215385                             72.453846   \n",
       "5  65 or older              28.230769                             68.361538   \n",
       "\n",
       "   Percentage of Individuals Vigorously Exercising  \n",
       "0                                        54.833333  \n",
       "1                                        50.666667  \n",
       "2                                        50.933333  \n",
       "3                                        51.150000  \n",
       "4                                        52.366667  \n",
       "5                                        54.666667  "
      ]
     },
     "execution_count": 644,
     "metadata": {},
     "output_type": "execute_result"
    }
   ],
   "source": [
    "# Rates of people exercising\n",
    "\n",
    "r = db.aggregate([\n",
    "    \n",
    "    # Here we make sure that \"percent\" is a double:\n",
    "    {\"$addFields\": {\"percent\": {\"$toDouble\": \"$percent\"}}},  \n",
    "    \n",
    "    # We $match only for the questions we are interested in for the population\n",
    "    # divided by age group with only national percentages\n",
    "    {\"$match\": {\"population_information.stratification_category\": \"Age (years)\",\n",
    "                \"state\":\"National\",\n",
    "                \"question\": {\"$in\": [\n",
    "                \"Percent of adults aged 18 years and older who have obesity\",\n",
    "                \"Percent of adults who engage in no leisure-time physical activity\",\n",
    "                \"\"\"Percent of adults who achieve at least 150 minutes a week\n",
    "                of moderate-intensity aerobic physical activity or 75 minutes \n",
    "                a week of vigorous-intensity aerobic activity (or an \n",
    "                equivalent combination)\"\"\"]}}},\n",
    "\n",
    "    #We calculate the average for each age group: \n",
    "    {\"$group\": {\"_id\": {\"age\": \"$population_information.stratification\",\n",
    "                        \"question\":\"$question\"},\n",
    "        \"average_percent\": {\"$avg\": \"$percent\"}}},\n",
    "\n",
    "    # Then we use conditional logic to get the average percentage of each category\n",
    "    {\"$group\": {\n",
    "        \"_id\": \"$_id.age\",\n",
    "        \"obesity_avg\": {\n",
    "            \"$sum\": {\n",
    "                \"$cond\": {\n",
    "                    \"if\":\n",
    "                    {\"$eq\": [\"$_id.question\",\n",
    "                                   \"\"\"Percent of adults aged 18 years\n",
    "                                   and older who have obesity\"\"\"]},\n",
    "                    \"then\": \"$average_percent\",\n",
    "                    \"else\": 0  # Exclude values for non-matching question\n",
    "                }}},\n",
    "        \"vigorous_exercise_avg\": {\n",
    "            \"$sum\": {\n",
    "                \"$cond\": {\n",
    "                    \"if\":\n",
    "                    {\"$eq\": [\"$_id.question\",\n",
    "                                   \"\"\"Percent of adults who achieve at least 150 minutes \n",
    "                                   a week of moderate-intensity aerobic physical activity\n",
    "                                   or 75 minutes a week of vigorous-intensity aerobic\n",
    "                                   activity (or an equivalent combination)\"\"\"]},\n",
    "                    \"then\": \"$average_percent\",\n",
    "                    \"else\": 0  # Exclude values for non-matching question\n",
    "                }}},\n",
    "        \"exercise_avg\": {\n",
    "            \"$sum\": {\n",
    "                \"$cond\": {\n",
    "                    \"if\": {\"$eq\":\n",
    "                           [\"$_id.question\",\n",
    "                                   \"\"\"Percent of adults who engage in no leisure-time\n",
    "                                   physical activity\"\"\"]},\n",
    "                    \"then\": {\"$subtract\": [100, \"$average_percent\"]},\n",
    "                    #subtract the average from 100 to get the percentage \n",
    "                    #of people exercising\n",
    "                    \"else\": 0  # Exclude values for non-matching question\n",
    "                }}}}},\n",
    "    \n",
    "\n",
    "     # We choose to show the age ranges, obesity percentages and exercise percentages\n",
    "    {\"$project\": {\"_id\":0, \n",
    "                  \"Age\":\"$_id\", \n",
    "                  \"Percentage of Obesity\": \"$obesity_avg\",\n",
    "                  \"Percentage of Individuals Exercising\":\"$exercise_avg\",\n",
    "                \"Percentage of Individuals Vigorously Exercising\":\n",
    "                  \"$vigorous_exercise_avg\"}},\n",
    "    \n",
    "    # Sort the averages by increasing age\n",
    "    {\"$sort\": {\"Age\": 1}}\n",
    "\n",
    "])\n",
    "pd.DataFrame(r)"
   ]
  },
  {
   "cell_type": "markdown",
   "id": "170b8328-00e9-4fc5-83ca-8e3807cebae4",
   "metadata": {},
   "source": [
    "What we observe is that the percentage of obesity increases with age and reaches a peak at 45 to 54 years of age, but drops off for persons aged 65 or older. Unsurprisingly, the amount of people exercising decreases with age and appears to therefore be negatively correlated to the percentage of obesity nation-wide. \n",
    "\n",
    "A majority of individuals maintain some form of exercise, but only around half across all ages do any serious form of exercise which increases heartrate and therefore leads to effectively burning calories."
   ]
  },
  {
   "cell_type": "markdown",
   "id": "037939e1-6345-459b-99ce-daf3d172f3aa",
   "metadata": {},
   "source": [
    "## 8. Conclusions"
   ]
  },
  {
   "cell_type": "markdown",
   "id": "ae12947b-6197-4b66-abb8-9ba8b367d180",
   "metadata": {},
   "source": [
    "In conclusion, we saw that obesity is most prevalent in the South-East of the United States. Certain ethnicities are also more likely to be overweight or obese, with Pacific Islanders on average most likely to fall in these categories. On the other hand, the highest and lowest income  brackets tended to be most likely to have normal BMIs.\n",
    "\n",
    "Overall, the national percentage of obese adults has been steadily increasing, with a slight decline from 2022 to 2023. Lastly, when considering possible causes of obesity, we observed that the lack of consumption of at least one fruit or vegetable a day was not clearly correlated to excessive weight. On the other hand, as individuals become less active with age, it does appear that they tend to gain weight as well. Furthermore, vigorous or otherwise intensive exercise was not a frequent undertaking by Americans, with only a little over half at all ages practicing some medium to high intensity sport regularily. "
   ]
  },
  {
   "cell_type": "markdown",
   "id": "7d5a237f-fdd2-4625-947b-a53e46cfb294",
   "metadata": {},
   "source": [
    "## 9. Learnings\n",
    "In the context of this project, we learned how to best structure the data that was imported into MongoDB and select which parts of it were truly necessary for our analysis. We also learned how to query the data directly in Python to better understand its structure and to build effective aggregate pipelines to develop an increasingly detailed and thorough analysis.\n",
    "We found conditional logic within pipelines particularily challenging to implement. They also required some reflexion to understand what specific parts of the data have to be queried. There were some similar fields, such as the ranges in \"population_information.age\" and the ranges specific to age in \"population_information.stratification\". It was a bit of a challenge at first to understand that in fact only the latter would work to properly group data by age ranges and return a proper data frame. "
   ]
  },
  {
   "cell_type": "markdown",
   "id": "20efb54c-bd51-4848-ac32-8fbb8010cf66",
   "metadata": {},
   "source": [
    "## 10. Disclaimer"
   ]
  },
  {
   "cell_type": "markdown",
   "id": "f4d1f28c-ef62-42a6-a5da-0396710b6e97",
   "metadata": {},
   "source": [
    "Note that Stackoverflow and ChatGPT were used to help formulate the conditional logic for the overweight or obese percentages of population for each US State. Although it was clear that an average had to be calculated over each question per state, then added to each other, it was not quite clear how to formulate the conditional logic in the \"$group\" part of the pipeline so it was necessary to understand how it should be implemented."
   ]
  },
  {
   "cell_type": "code",
   "execution_count": 89,
   "id": "bfb7b25d",
   "metadata": {},
   "outputs": [
    {
     "data": {
      "text/html": [
       "<style>\n",
       "    /* Hide In/Out column */\n",
       "    div.prompt { display: none; }\n",
       "    \n",
       "</style>\n"
      ],
      "text/plain": [
       "<IPython.core.display.HTML object>"
      ]
     },
     "metadata": {},
     "output_type": "display_data"
    }
   ],
   "source": [
    "%%HTML\n",
    "<style>\n",
    "    /* Hide In/Out column */\n",
    "    div.prompt { display: none; }\n",
    "    \n",
    "</style>"
   ]
  },
  {
   "cell_type": "code",
   "execution_count": null,
   "id": "bbc06552",
   "metadata": {},
   "outputs": [],
   "source": []
  }
 ],
 "metadata": {
  "celltoolbar": "Format de la Cellule Texte Brut",
  "kernelspec": {
   "display_name": "nosql_lab",
   "language": "python",
   "name": "nosql_lab"
  },
  "language_info": {
   "codemirror_mode": {
    "name": "ipython",
    "version": 3
   },
   "file_extension": ".py",
   "mimetype": "text/x-python",
   "name": "python",
   "nbconvert_exporter": "python",
   "pygments_lexer": "ipython3",
   "version": "3.11.0rc1"
  }
 },
 "nbformat": 4,
 "nbformat_minor": 5
}
